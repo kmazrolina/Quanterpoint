{
 "cells": [
  {
   "cell_type": "code",
   "execution_count": 46,
   "id": "3c2fc02a-0edb-41c6-bf3b-80a90cd4f148",
   "metadata": {
    "tags": []
   },
   "outputs": [
    {
     "name": "stdout",
     "output_type": "stream",
     "text": [
      "The least busy quantum computer now is ibm_nairobi\n"
     ]
    }
   ],
   "source": [
    "# Importing standard python libraries\n",
    "import numpy as np\n",
    "from math import pi,sqrt\n",
    "import matplotlib.pyplot as plt\n",
    "\n",
    "# Importing standard Qiskit libraries\n",
    "from qiskit import QuantumCircuit, transpile, Aer, IBMQ, execute, QuantumRegister\n",
    "from qiskit.tools.jupyter import *\n",
    "from qiskit.visualization import * # plot_bloch_multivector\n",
    "from ibm_quantum_widgets import * # CircuitComposer\n",
    "from qiskit.providers.aer import QasmSimulator\n",
    "from qiskit.quantum_info import Statevector\n",
    "\n",
    "# Loading your IBM Quantum account(s)\n",
    "provider = IBMQ.load_account()\n",
    "\n",
    "# Find the least busy system that has at least 1 qubit\n",
    "from qiskit.providers.ibmq import least_busy\n",
    "\n",
    "ibmq_backend = least_busy(provider.backends(filters=lambda x: x.configuration().n_qubits >= 1 and \n",
    "                                   not x.configuration().simulator and x.status().operational==True))\n",
    "\n",
    "print(\"The least busy quantum computer now is\",ibmq_backend)\n"
   ]
  },
  {
   "cell_type": "markdown",
   "id": "95461239-4a33-40cd-bc5a-fa901b7faef9",
   "metadata": {},
   "source": [
    "## Data generation"
   ]
  },
  {
   "cell_type": "markdown",
   "id": "9ab362b5-02a5-4048-819f-437036de4c49",
   "metadata": {},
   "source": [
    "Generating 12 data points by calculating output probabilities of 12 simple quantum circuits."
   ]
  },
  {
   "cell_type": "code",
   "execution_count": 47,
   "id": "83a2cb8f-9e92-435b-8e36-5d1dde05306d",
   "metadata": {},
   "outputs": [],
   "source": [
    "#array of 12 base notes\n",
    "scale12 =[]"
   ]
  },
  {
   "cell_type": "code",
   "execution_count": 49,
   "id": "0227f5ee-9060-4f09-b767-611800332233",
   "metadata": {
    "tags": []
   },
   "outputs": [
    {
     "name": "stdout",
     "output_type": "stream",
     "text": [
      "Ciruit no  0\n",
      "Base melody note: (0.087890625+0.912109375j)\n",
      "Ciruit no  1\n",
      "Base melody note: (0.5185546875+0.4814453125j)\n",
      "Ciruit no  2\n",
      "Base melody note: (0.51171875+0.48828125j)\n",
      "Ciruit no  3\n",
      "Base melody note: (0.4931640625+0.5068359375j)\n",
      "Ciruit no  4\n",
      "Base melody note: (0.5166015625+0.4833984375j)\n",
      "Ciruit no  5\n",
      "Base melody note: (0.50390625+0.49609375j)\n",
      "Ciruit no  6\n",
      "Base melody note: (0.86328125+0.13671875j)\n",
      "Ciruit no  7\n",
      "Base melody note: (0.5224609375+0.4775390625j)\n",
      "Ciruit no  8\n",
      "Base melody note: (0.51171875+0.48828125j)\n",
      "Ciruit no  9\n",
      "Base melody note: (0.517578125+0.482421875j)\n",
      "Ciruit no  10\n",
      "Base melody note: (0.5390625+0.4609375j)\n",
      "Ciruit no  11\n",
      "Base melody note: (0.046875+0.953125j)\n"
     ]
    }
   ],
   "source": [
    "for i in range(12):\n",
    "    \n",
    "    # Start with an one qubit quantum circuit.\n",
    "    circuit = QuantumCircuit(1,1)\n",
    "    circuit.h(0)\n",
    "    if i == 0:\n",
    "        circuit.u(pi/2,pi/4,pi/8,0)\n",
    "    elif i == 1:\n",
    "        circuit.y(0)\n",
    "    elif i == 2:\n",
    "        circuit.p(pi/2,0)\n",
    "    elif i == 3:\n",
    "        circuit.s(0)\n",
    "    elif i == 4:\n",
    "        circuit.t(0)\n",
    "    elif i == 5:\n",
    "        circuit.p(pi/2,0)\n",
    "        circuit.rz(pi/2,0)\n",
    "    elif i == 6:\n",
    "        circuit.t(0)\n",
    "        circuit.rx(pi/2,0)\n",
    "    elif i == 7:\n",
    "        circuit.y(0)\n",
    "        circuit.rx(pi/2,0)\n",
    "    elif i == 8:\n",
    "        circuit.y(0)\n",
    "        circuit.rx(pi/2,0)\n",
    "    elif i == 9:\n",
    "        circuit.rz(pi/2,0)\n",
    "    elif i == 10:\n",
    "        circuit.rx(pi/2,0)\n",
    "    elif i == 11:\n",
    "        circuit.ry(pi/2,0)\n",
    "   \n",
    "        \n",
    "    editor = CircuitComposer(circuit=circuit)\n",
    "    editor\n",
    "\n",
    "    # View the circiut quantum state on the Bloch sphere \n",
    "    qc1 = editor.circuit\n",
    "    plot_bloch_multivector(qc1)\n",
    "    \n",
    "    # Add measurement - used to calculate the modified state vector\n",
    "    print(\"Ciruit no \", i)\n",
    "    qc1.measure(0, 0)\n",
    "    \n",
    "    # Define the number of shots for the execution. \n",
    "    shotno=1024\n",
    "\n",
    "    # Run the circuit on a real quantum computer. NB! This may take a while.\n",
    "    job_ibmq = execute(qc1, ibmq_backend, shots=shotno)\n",
    "    result = job_ibmq.result()\n",
    "    \n",
    "    # Get count measurement results\n",
    "    counts = result.get_counts()\n",
    "\n",
    "    prob0qc = counts['0']/shotno\n",
    "    prob1qc = counts['1']/shotno\n",
    "\n",
    "    scale12.append(complex(prob0qc,prob1qc))\n",
    "    print(\"Base melody note:\", scale12[i])\n"
   ]
  },
  {
   "cell_type": "code",
   "execution_count": 44,
   "id": "52a0f565-e0fa-4e4d-b30a-a0274b2494c7",
   "metadata": {
    "tags": []
   },
   "outputs": [],
   "source": []
  },
  {
   "cell_type": "code",
   "execution_count": null,
   "id": "bc4775a9-ed92-4f1a-8b5b-e15e3adf5a2f",
   "metadata": {},
   "outputs": [],
   "source": []
  }
 ],
 "metadata": {
  "kernelspec": {
   "display_name": "Python 3 (ipykernel)",
   "language": "python",
   "name": "python3"
  },
  "language_info": {
   "codemirror_mode": {
    "name": "ipython",
    "version": 3
   },
   "file_extension": ".py",
   "mimetype": "text/x-python",
   "name": "python",
   "nbconvert_exporter": "python",
   "pygments_lexer": "ipython3",
   "version": "3.10.8"
  },
  "widgets": {
   "application/vnd.jupyter.widget-state+json": {
    "state": {
     "0024b3a98da64bd28b745329271d0b6a": {
      "model_module": "@jupyter-widgets/base",
      "model_module_version": "2.0.0",
      "model_name": "LayoutModel",
      "state": {
       "max_width": "700px",
       "min_width": "700px"
      }
     },
     "002bc7a89ce24d4f82ba9e5bab7981b7": {
      "model_module": "@jupyter-widgets/controls",
      "model_module_version": "2.0.0",
      "model_name": "HTMLModel",
      "state": {
       "layout": "IPY_MODEL_fcc3db4738cb4bfdbea46537ef91f23b",
       "style": "IPY_MODEL_83090bf643b942388198761815ccd4a8",
       "value": "cmc3rvkwqgx0008yk1j0"
      }
     },
     "004c96b8d2d44dc3b86d8182aac6a55d": {
      "model_module": "@jupyter-widgets/base",
      "model_module_version": "2.0.0",
      "model_name": "LayoutModel",
      "state": {
       "width": "70px"
      }
     },
     "00bd9bb3a6b8475da8a3ddc4067b026e": {
      "model_module": "@jupyter-widgets/controls",
      "model_module_version": "2.0.0",
      "model_name": "HTMLModel",
      "state": {
       "layout": "IPY_MODEL_b5fcbfcc342446d19c4206638560d026",
       "style": "IPY_MODEL_f2c3f297c22c4b15a62a6e0223d642c9",
       "value": "cmc4z5mnpt50008r2exg"
      }
     },
     "01b98978b3194f31b4f62be41bafdb2b": {
      "model_module": "@jupyter-widgets/base",
      "model_module_version": "2.0.0",
      "model_name": "LayoutModel",
      "state": {
       "width": "145px"
      }
     },
     "0230e50e35934346973c31da17774514": {
      "model_module": "@jupyter-widgets/controls",
      "model_module_version": "2.0.0",
      "model_name": "HTMLModel",
      "state": {
       "layout": "IPY_MODEL_11d2d9ab89254ebfbfbdfe88a74cba00",
       "style": "IPY_MODEL_5239ca04a5844cb3a6956f2d146be369",
       "value": "ibm_nairobi"
      }
     },
     "028bee1184e1475f9ceb392666f61089": {
      "model_module": "@jupyter-widgets/base",
      "model_module_version": "2.0.0",
      "model_name": "LayoutModel",
      "state": {
       "width": "145px"
      }
     },
     "03207de2565b42ce9c79d27f400df89d": {
      "model_module": "@jupyter-widgets/controls",
      "model_module_version": "2.0.0",
      "model_name": "HTMLModel",
      "state": {
       "layout": "IPY_MODEL_7ce9eaf88620421fb02e696f2182e004",
       "style": "IPY_MODEL_b3d160377fe1409b82dc2df2ccc7e1ce",
       "value": "<font style='color:#34BC6E'>DONE</font>"
      }
     },
     "038b6323b0f142c0bd66c7092fed1530": {
      "model_module": "@jupyter-widgets/controls",
      "model_module_version": "2.0.0",
      "model_name": "HTMLStyleModel",
      "state": {
       "description_width": "",
       "font_size": null,
       "text_color": null
      }
     },
     "046adafe52ef435492d91608a7035d6c": {
      "model_module": "@jupyter-widgets/controls",
      "model_module_version": "2.0.0",
      "model_name": "HTMLModel",
      "state": {
       "layout": "IPY_MODEL_ed000f6205fb4610a55dcc924665706e",
       "style": "IPY_MODEL_1097e0ee403445b0bf178ae0b98d3b57",
       "value": "job has successfully run"
      }
     },
     "0483879a86764b7f95ffabfaad41a3b4": {
      "model_module": "@jupyter-widgets/controls",
      "model_module_version": "2.0.0",
      "model_name": "HTMLStyleModel",
      "state": {
       "description_width": "",
       "font_size": null,
       "text_color": null
      }
     },
     "049e76e64ca64fb1b5d1d7e97f697bc0": {
      "model_module": "@jupyter-widgets/controls",
      "model_module_version": "2.0.0",
      "model_name": "HTMLStyleModel",
      "state": {
       "description_width": "",
       "font_size": null,
       "text_color": null
      }
     },
     "04a42b8ff8eb4755a88211045d07cc0d": {
      "model_module": "@jupyter-widgets/controls",
      "model_module_version": "2.0.0",
      "model_name": "HBoxModel",
      "state": {
       "children": [
        "IPY_MODEL_721e3e590a554263b661a42229955f84",
        "IPY_MODEL_7f5e7c11890d4dac8f5db50c381a0055",
        "IPY_MODEL_943d6fed210c456494bba347fb808166",
        "IPY_MODEL_7b3164af7e3b466a81cddecc190d1334",
        "IPY_MODEL_8c38154d821b49eb8f54d4906b03bd36",
        "IPY_MODEL_1cd7f291f9644a32b0944d08b73bf448"
       ],
       "layout": "IPY_MODEL_851f7a10c2ec474cba28093973e9d2a6"
      }
     },
     "056b0773533b41928306bce11b96d921": {
      "model_module": "@jupyter-widgets/controls",
      "model_module_version": "2.0.0",
      "model_name": "HTMLModel",
      "state": {
       "layout": "IPY_MODEL_01b98978b3194f31b4f62be41bafdb2b",
       "style": "IPY_MODEL_d05b3256522541a7a33c35beac739c6f",
       "value": "ibm_nairobi"
      }
     },
     "05b88cb786e74a638c66b00e939b8e71": {
      "model_module": "@jupyter-widgets/controls",
      "model_module_version": "2.0.0",
      "model_name": "HTMLStyleModel",
      "state": {
       "description_width": "",
       "font_size": null,
       "text_color": null
      }
     },
     "05e8e1f6d9f94860becd0ba027d92991": {
      "model_module": "@jupyter-widgets/controls",
      "model_module_version": "2.0.0",
      "model_name": "ButtonStyleModel",
      "state": {
       "button_color": "white",
       "font_family": null,
       "font_size": null,
       "font_style": null,
       "font_variant": null,
       "font_weight": null,
       "text_color": null,
       "text_decoration": null
      }
     },
     "071ffb5c91514dc7b74d4a8201832ca0": {
      "model_module": "@jupyter-widgets/controls",
      "model_module_version": "2.0.0",
      "model_name": "ButtonModel",
      "state": {
       "icon": "close",
       "layout": "IPY_MODEL_57f5561f6ea04f5fa56633b264b1687b",
       "style": "IPY_MODEL_349781f5741548c4a23581a373d0668d",
       "tooltip": null
      }
     },
     "08627ec491ef4a8c8c3b00fd6ac53d6b": {
      "model_module": "@jupyter-widgets/base",
      "model_module_version": "2.0.0",
      "model_name": "LayoutModel",
      "state": {}
     },
     "089ad06a11894a069d4b3f1752890d0c": {
      "model_module": "@jupyter-widgets/controls",
      "model_module_version": "2.0.0",
      "model_name": "HTMLStyleModel",
      "state": {
       "description_width": "",
       "font_size": null,
       "text_color": null
      }
     },
     "0aaa2256e6fc4d41ba558a9b087547f9": {
      "model_module": "@jupyter-widgets/controls",
      "model_module_version": "2.0.0",
      "model_name": "HTMLModel",
      "state": {
       "layout": "IPY_MODEL_c86dec08eba64a73968a9375325515ae",
       "style": "IPY_MODEL_4d6f8a82cce84081871c4a8c473e5bbd",
       "value": "ibm_nairobi"
      }
     },
     "0b836be29ff440f79b12e494e62c035f": {
      "model_module": "@jupyter-widgets/controls",
      "model_module_version": "2.0.0",
      "model_name": "HTMLModel",
      "state": {
       "layout": "IPY_MODEL_928a61f65b2f4dfc910f007a2059d1a6",
       "style": "IPY_MODEL_7b38276eec0a4ce2997a9ca3fecf7238",
       "value": "-"
      }
     },
     "0bcbf3db1d4a4195adee4c713dceaee2": {
      "model_module": "@jupyter-widgets/controls",
      "model_module_version": "2.0.0",
      "model_name": "HTMLStyleModel",
      "state": {
       "description_width": "",
       "font_size": null,
       "text_color": null
      }
     },
     "0c7b5cabbcee448f9e7320898b5dfa52": {
      "model_module": "@jupyter-widgets/controls",
      "model_module_version": "2.0.0",
      "model_name": "HTMLModel",
      "state": {
       "layout": "IPY_MODEL_c02272c889674a3fbf67bf5a4e4c089b",
       "style": "IPY_MODEL_089ad06a11894a069d4b3f1752890d0c",
       "value": "cmc5qwqnpt50008r2fn0"
      }
     },
     "0cd90c16870f43bb9b49cc07b5f70612": {
      "model_module": "@jupyter-widgets/controls",
      "model_module_version": "2.0.0",
      "model_name": "HTMLStyleModel",
      "state": {
       "description_width": "",
       "font_size": null,
       "text_color": null
      }
     },
     "0d0650f62bbf44fcbb8496345b0aae76": {
      "model_module": "@jupyter-widgets/controls",
      "model_module_version": "2.0.0",
      "model_name": "HTMLModel",
      "state": {
       "layout": "IPY_MODEL_7e802ac46fb1429e9d5acf4f931e09be",
       "style": "IPY_MODEL_b6f67b294b0d4381bce075fb182ed730",
       "value": "cmc5qkpfjvfg008becz0"
      }
     },
     "0d174492a6a5441abf4a2fda74f2099a": {
      "model_module": "@jupyter-widgets/base",
      "model_module_version": "2.0.0",
      "model_name": "LayoutModel",
      "state": {
       "max_width": "700px",
       "min_width": "700px"
      }
     },
     "0d5a0366bd1b44099f42aff09095ab44": {
      "model_module": "@jupyter-widgets/base",
      "model_module_version": "2.0.0",
      "model_name": "LayoutModel",
      "state": {}
     },
     "0e753460feb046b9959c8bf04aca9c7f": {
      "model_module": "@jupyter-widgets/controls",
      "model_module_version": "2.0.0",
      "model_name": "HTMLStyleModel",
      "state": {
       "description_width": "",
       "font_size": null,
       "text_color": null
      }
     },
     "0ec99e44d5614ff2a9e0931006636b5f": {
      "model_module": "@jupyter-widgets/base",
      "model_module_version": "2.0.0",
      "model_name": "LayoutModel",
      "state": {
       "margin": "0px 5px 0px 0px",
       "width": "32px"
      }
     },
     "0f5e3eec996344e38ccdbbe91225ce67": {
      "model_module": "@jupyter-widgets/base",
      "model_module_version": "2.0.0",
      "model_name": "LayoutModel",
      "state": {
       "width": "70px"
      }
     },
     "107601a77e0f41d2ba362755a7044c10": {
      "model_module": "@quantum/lab-widgets",
      "model_module_version": "4.0.44",
      "model_name": "CircuitComposerModel",
      "state": {
       "circuit": "\"OPENQASM 2.0;\\ninclude \\\"qelib1.inc\\\";\\nqreg q[3];\\ncreg c[3];\\n\"",
       "editable": true,
       "layout": "IPY_MODEL_63afbb5f6f344838a34a196408912454",
       "qiskit_code_cell_index": -1
      }
     },
     "1097e0ee403445b0bf178ae0b98d3b57": {
      "model_module": "@jupyter-widgets/controls",
      "model_module_version": "2.0.0",
      "model_name": "HTMLStyleModel",
      "state": {
       "description_width": "",
       "font_size": null,
       "text_color": null
      }
     },
     "11849168f78c4dc4a06a5b6c75c6fc85": {
      "model_module": "@jupyter-widgets/controls",
      "model_module_version": "2.0.0",
      "model_name": "HTMLStyleModel",
      "state": {
       "description_width": "",
       "font_size": null,
       "text_color": null
      }
     },
     "11d2d9ab89254ebfbfbdfe88a74cba00": {
      "model_module": "@jupyter-widgets/base",
      "model_module_version": "2.0.0",
      "model_name": "LayoutModel",
      "state": {
       "width": "145px"
      }
     },
     "1211a0cd45f649c0b2ca6baf10ae44c1": {
      "model_module": "@jupyter-widgets/controls",
      "model_module_version": "2.0.0",
      "model_name": "HTMLModel",
      "state": {
       "layout": "IPY_MODEL_c4c5bb6dbf6a4453a5a912fe89f5ce64",
       "style": "IPY_MODEL_6bf0f7bb8707486a8879f4ee7218d0ff",
       "value": "<font style='color:#34BC6E'>DONE</font>"
      }
     },
     "1325ca9778a2475787bc1d8a9b579a7c": {
      "model_module": "@jupyter-widgets/controls",
      "model_module_version": "2.0.0",
      "model_name": "ButtonStyleModel",
      "state": {
       "button_color": "white",
       "font_family": null,
       "font_size": null,
       "font_style": null,
       "font_variant": null,
       "font_weight": null,
       "text_color": null,
       "text_decoration": null
      }
     },
     "1540dadec20643e7a82c44a9a5d376b3": {
      "model_module": "@jupyter-widgets/base",
      "model_module_version": "2.0.0",
      "model_name": "LayoutModel",
      "state": {
       "grid_template_areas": "\n                                       \". . . . right \"\n                                        ",
       "grid_template_columns": "20% 20% 20% 20% 20%",
       "width": "100%"
      }
     },
     "1565b886f5574625833e4853b805ecd4": {
      "model_module": "@jupyter-widgets/controls",
      "model_module_version": "2.0.0",
      "model_name": "HTMLModel",
      "state": {
       "layout": "IPY_MODEL_54a4a7c93ade492381a2dcc579527745",
       "style": "IPY_MODEL_739d16b23a334ef1bc94303a20a918a7",
       "value": "cmc5qbxwqgx0008yk2wg"
      }
     },
     "156eb2a2355d4b9c8fa0439de3514780": {
      "model_module": "@jupyter-widgets/controls",
      "model_module_version": "2.0.0",
      "model_name": "ButtonStyleModel",
      "state": {
       "button_color": "white",
       "font_family": null,
       "font_size": null,
       "font_style": null,
       "font_variant": null,
       "font_weight": null,
       "text_color": null,
       "text_decoration": null
      }
     },
     "15737a979809422c9e20fb7680c0688a": {
      "model_module": "@jupyter-widgets/base",
      "model_module_version": "2.0.0",
      "model_name": "LayoutModel",
      "state": {
       "max_width": "700px",
       "min_width": "700px"
      }
     },
     "15c7d597ecff47b3b574c57ea4320ff9": {
      "model_module": "@jupyter-widgets/controls",
      "model_module_version": "2.0.0",
      "model_name": "HTMLStyleModel",
      "state": {
       "description_width": "",
       "font_size": null,
       "text_color": null
      }
     },
     "162b98f5581b459bbdf48b57bc7ccba7": {
      "model_module": "@jupyter-widgets/base",
      "model_module_version": "2.0.0",
      "model_name": "LayoutModel",
      "state": {
       "width": "95px"
      }
     },
     "16adee0ec34e44e3a568f7cbb6f934a3": {
      "model_module": "@jupyter-widgets/controls",
      "model_module_version": "2.0.0",
      "model_name": "HTMLModel",
      "state": {
       "layout": "IPY_MODEL_387fcea2cf41425c9b9b6c25328683ad",
       "style": "IPY_MODEL_c639ed11f1a44e8798f5f3fad553bce1",
       "value": "cmc53rfje57g0082bf1g"
      }
     },
     "179102b23ac148f9be924f4af24d389a": {
      "model_module": "@jupyter-widgets/base",
      "model_module_version": "2.0.0",
      "model_name": "LayoutModel",
      "state": {}
     },
     "18236f2b91c14118a32125424f4648a4": {
      "model_module": "@jupyter-widgets/controls",
      "model_module_version": "2.0.0",
      "model_name": "HTMLStyleModel",
      "state": {
       "description_width": "",
       "font_size": null,
       "text_color": null
      }
     },
     "1945eb0730534dbe8f3fac2e2e3dc719": {
      "model_module": "@jupyter-widgets/controls",
      "model_module_version": "2.0.0",
      "model_name": "HTMLStyleModel",
      "state": {
       "description_width": "",
       "font_size": null,
       "text_color": null
      }
     },
     "19604437307346c5a2229fdbb0ffa0f8": {
      "model_module": "@jupyter-widgets/controls",
      "model_module_version": "2.0.0",
      "model_name": "HTMLStyleModel",
      "state": {
       "description_width": "",
       "font_size": null,
       "text_color": null
      }
     },
     "1b96d24ad7fa4bf4afcc0fa649e68f7a": {
      "model_module": "@jupyter-widgets/controls",
      "model_module_version": "2.0.0",
      "model_name": "HTMLStyleModel",
      "state": {
       "description_width": "",
       "font_size": null,
       "text_color": null
      }
     },
     "1b9cb086db1a449f95b4d4e7ea14fe06": {
      "model_module": "@jupyter-widgets/base",
      "model_module_version": "2.0.0",
      "model_name": "LayoutModel",
      "state": {
       "width": "190px"
      }
     },
     "1b9f7b309f1644a7836badb7594f5676": {
      "model_module": "@jupyter-widgets/base",
      "model_module_version": "2.0.0",
      "model_name": "LayoutModel",
      "state": {
       "width": "145px"
      }
     },
     "1cd7f291f9644a32b0944d08b73bf448": {
      "model_module": "@jupyter-widgets/controls",
      "model_module_version": "2.0.0",
      "model_name": "HTMLModel",
      "state": {
       "layout": "IPY_MODEL_6fc776af7a3644c78d1d58f3d9c6f154",
       "style": "IPY_MODEL_1e8a8664eab944feafdf59c9fe22c255",
       "value": "job has successfully run"
      }
     },
     "1cfca20c59dc47e1aa64e171fbdfebf4": {
      "model_module": "@jupyter-widgets/controls",
      "model_module_version": "2.0.0",
      "model_name": "HTMLModel",
      "state": {
       "layout": "IPY_MODEL_162b98f5581b459bbdf48b57bc7ccba7",
       "style": "IPY_MODEL_0483879a86764b7f95ffabfaad41a3b4",
       "value": "<font style='color:#34BC6E'>DONE</font>"
      }
     },
     "1d2d3160d591450ea862efa5a0cb8f6b": {
      "model_module": "@jupyter-widgets/base",
      "model_module_version": "2.0.0",
      "model_name": "LayoutModel",
      "state": {
       "margin": "0px 5px 0px 0px",
       "width": "32px"
      }
     },
     "1d802d831765470d88ab9aed69063c86": {
      "model_module": "@jupyter-widgets/controls",
      "model_module_version": "2.0.0",
      "model_name": "HTMLModel",
      "state": {
       "layout": "IPY_MODEL_0f5e3eec996344e38ccdbbe91225ce67",
       "style": "IPY_MODEL_049e76e64ca64fb1b5d1d7e97f697bc0",
       "value": "-"
      }
     },
     "1df974c90e1146189f58a831f4d9ad3b": {
      "model_module": "@quantum/lab-widgets",
      "model_module_version": "4.0.44",
      "model_name": "CircuitComposerModel",
      "state": {
       "circuit": "\"OPENQASM 2.0;\\ninclude \\\"qelib1.inc\\\";\\nqreg q[1];\\ncreg c[1];\\nh q[0];\\nu(pi/2,pi/4,pi/8) q[0];\\n\"",
       "editable": true,
       "layout": "IPY_MODEL_d5716836a09f464ca9afb2447a3d18ae",
       "qiskit_code_cell_index": -1
      }
     },
     "1e44727de2714d39a5230aafb037c506": {
      "model_module": "@jupyter-widgets/base",
      "model_module_version": "2.0.0",
      "model_name": "LayoutModel",
      "state": {
       "width": "145px"
      }
     },
     "1e866449a7e7433d83a3082be8e5a207": {
      "model_module": "@jupyter-widgets/base",
      "model_module_version": "2.0.0",
      "model_name": "LayoutModel",
      "state": {
       "max_width": "700px",
       "min_width": "700px"
      }
     },
     "1e8a8664eab944feafdf59c9fe22c255": {
      "model_module": "@jupyter-widgets/controls",
      "model_module_version": "2.0.0",
      "model_name": "HTMLStyleModel",
      "state": {
       "description_width": "",
       "font_size": null,
       "text_color": null
      }
     },
     "1eee5429136240a6b35a289dc9e8fdb3": {
      "model_module": "@jupyter-widgets/controls",
      "model_module_version": "2.0.0",
      "model_name": "HTMLModel",
      "state": {
       "layout": "IPY_MODEL_7877e33de8ba4b6dae99d8c662b61a86",
       "style": "IPY_MODEL_e9030b9100794c6b9ebfa9699cae9799",
       "value": "-"
      }
     },
     "1f05d24536084861a53cbc2b7bb07110": {
      "model_module": "@jupyter-widgets/base",
      "model_module_version": "2.0.0",
      "model_name": "LayoutModel",
      "state": {
       "width": "145px"
      }
     },
     "1f45aa02c6f6499cbf700615444f3f73": {
      "model_module": "@jupyter-widgets/controls",
      "model_module_version": "2.0.0",
      "model_name": "HTMLModel",
      "state": {
       "layout": "IPY_MODEL_1b9cb086db1a449f95b4d4e7ea14fe06",
       "style": "IPY_MODEL_2714110bec6446d1839d1e84b9c94234",
       "value": "cmc3kn6q6frg00819550"
      }
     },
     "21c034c64a3045c0bf900dddf61347b8": {
      "model_module": "@jupyter-widgets/controls",
      "model_module_version": "2.0.0",
      "model_name": "HTMLModel",
      "state": {
       "layout": "IPY_MODEL_179102b23ac148f9be924f4af24d389a",
       "style": "IPY_MODEL_9e9b6dce0aa34a83a6f9027a2af6bde4",
       "value": "job has successfully run"
      }
     },
     "21ce9eff46904faa8881d86b725a2291": {
      "model_module": "@jupyter-widgets/base",
      "model_module_version": "2.0.0",
      "model_name": "LayoutModel",
      "state": {
       "width": "95px"
      }
     },
     "225c3d6bc4924cbb86f8eeb321e2e098": {
      "model_module": "@jupyter-widgets/base",
      "model_module_version": "2.0.0",
      "model_name": "LayoutModel",
      "state": {
       "width": "145px"
      }
     },
     "226f85bc69eb41919114227d8d2839d5": {
      "model_module": "@jupyter-widgets/base",
      "model_module_version": "2.0.0",
      "model_name": "LayoutModel",
      "state": {
       "max_width": "700px",
       "min_width": "700px"
      }
     },
     "23d78d0d687a4a02bd0321bc7d1a3d1c": {
      "model_module": "@jupyter-widgets/controls",
      "model_module_version": "2.0.0",
      "model_name": "HTMLStyleModel",
      "state": {
       "description_width": "",
       "font_size": null,
       "text_color": null
      }
     },
     "23e964f452704465a6f96dcf02104cce": {
      "model_module": "@jupyter-widgets/controls",
      "model_module_version": "2.0.0",
      "model_name": "ButtonStyleModel",
      "state": {
       "button_color": "white",
       "font_family": null,
       "font_size": null,
       "font_style": null,
       "font_variant": null,
       "font_weight": null,
       "text_color": null,
       "text_decoration": null
      }
     },
     "23ec5a7a7b39411a87201a8c9dd8cf82": {
      "model_module": "@jupyter-widgets/base",
      "model_module_version": "2.0.0",
      "model_name": "LayoutModel",
      "state": {
       "width": "190px"
      }
     },
     "2521a5f3d3104e1295567552de25d3be": {
      "model_module": "@jupyter-widgets/controls",
      "model_module_version": "2.0.0",
      "model_name": "HTMLStyleModel",
      "state": {
       "description_width": "",
       "font_size": null,
       "text_color": null
      }
     },
     "2586473e30264567a24b06ce0c55f1d9": {
      "model_module": "@jupyter-widgets/controls",
      "model_module_version": "2.0.0",
      "model_name": "HTMLModel",
      "state": {
       "layout": "IPY_MODEL_b685e8d7dcef4e5c94f14f8e4c65dc20",
       "style": "IPY_MODEL_23d78d0d687a4a02bd0321bc7d1a3d1c",
       "value": "<font style='color:#34BC6E'>DONE</font>"
      }
     },
     "2714110bec6446d1839d1e84b9c94234": {
      "model_module": "@jupyter-widgets/controls",
      "model_module_version": "2.0.0",
      "model_name": "HTMLStyleModel",
      "state": {
       "description_width": "",
       "font_size": null,
       "text_color": null
      }
     },
     "271731e23690436b8e4c2f973fecbcaf": {
      "model_module": "@jupyter-widgets/controls",
      "model_module_version": "2.0.0",
      "model_name": "ButtonStyleModel",
      "state": {
       "button_color": "white",
       "font_family": null,
       "font_size": null,
       "font_style": null,
       "font_variant": null,
       "font_weight": null,
       "text_color": null,
       "text_decoration": null
      }
     },
     "282815ddbcc048b0ad276b6cba064e26": {
      "model_module": "@jupyter-widgets/controls",
      "model_module_version": "2.0.0",
      "model_name": "HTMLModel",
      "state": {
       "layout": "IPY_MODEL_028bee1184e1475f9ceb392666f61089",
       "style": "IPY_MODEL_bd5a8c18e65844718cb873afa5b1e984",
       "value": "<h5>Backend</h5>"
      }
     },
     "29fe053dbc2b4e4aadeee266ccd1898f": {
      "model_module": "@jupyter-widgets/controls",
      "model_module_version": "2.0.0",
      "model_name": "HTMLStyleModel",
      "state": {
       "description_width": "",
       "font_size": null,
       "text_color": null
      }
     },
     "2a2d8d1c810145aca0ed51ccf979d273": {
      "model_module": "@jupyter-widgets/controls",
      "model_module_version": "2.0.0",
      "model_name": "HTMLModel",
      "state": {
       "layout": "IPY_MODEL_c9b870842e9f459a8b0866fa7f606b77",
       "style": "IPY_MODEL_a2344f754f244dad8a71e24d3e4b9732",
       "value": "-"
      }
     },
     "2aae0f8a298d4e5cbf4b65e80ea3d88d": {
      "model_module": "@jupyter-widgets/base",
      "model_module_version": "2.0.0",
      "model_name": "LayoutModel",
      "state": {}
     },
     "2b7ecf8379d0414abf05e87a9d5c44ff": {
      "model_module": "@jupyter-widgets/base",
      "model_module_version": "2.0.0",
      "model_name": "LayoutModel",
      "state": {
       "margin": "0px 5px 0px 0px",
       "width": "32px"
      }
     },
     "2b814188b4f64813912db7d11063212a": {
      "model_module": "@jupyter-widgets/base",
      "model_module_version": "2.0.0",
      "model_name": "LayoutModel",
      "state": {}
     },
     "2bac2d5617f6454b9ae7f7cb4b7de83a": {
      "model_module": "@jupyter-widgets/base",
      "model_module_version": "2.0.0",
      "model_name": "LayoutModel",
      "state": {}
     },
     "2c0326794cff4d7899b6903f02818cd6": {
      "model_module": "@jupyter-widgets/controls",
      "model_module_version": "2.0.0",
      "model_name": "HBoxModel",
      "state": {
       "children": [
        "IPY_MODEL_635dd1bd5af640209eeed17c48922f30",
        "IPY_MODEL_dc78fa972ef1463bb69529e2b5449817",
        "IPY_MODEL_d3728eab31fb41729f50b57d4a4ff990",
        "IPY_MODEL_8d8a3c76402f4da393f6ae26e79eaccb",
        "IPY_MODEL_1eee5429136240a6b35a289dc9e8fdb3",
        "IPY_MODEL_3ab0da1e3cbb4ddd8054e0896fadc1ea"
       ],
       "layout": "IPY_MODEL_3acbf54d11074ff7812ffd92171ba241"
      }
     },
     "2d2264a0d45a4d8d94f59854f866f15a": {
      "model_module": "@jupyter-widgets/controls",
      "model_module_version": "2.0.0",
      "model_name": "HTMLModel",
      "state": {
       "layout": "IPY_MODEL_ceeefe4dc9d84a0eb4ff28edbc9ed43b",
       "style": "IPY_MODEL_c0639752f2384b7f86d375eddae5490d",
       "value": "ibm_brisbane"
      }
     },
     "2e1807b59ad548ebb61fd737d9fc6057": {
      "model_module": "@jupyter-widgets/base",
      "model_module_version": "2.0.0",
      "model_name": "LayoutModel",
      "state": {
       "margin": "0px 5px 0px 0px",
       "width": "32px"
      }
     },
     "2e18677fb9b948aa82777903ab306d69": {
      "model_module": "@jupyter-widgets/base",
      "model_module_version": "2.0.0",
      "model_name": "LayoutModel",
      "state": {
       "margin": "0px 5px 0px 0px",
       "width": "32px"
      }
     },
     "2f1da303d3a34cf2b99fbf9b6cc9f462": {
      "model_module": "@jupyter-widgets/controls",
      "model_module_version": "2.0.0",
      "model_name": "HTMLStyleModel",
      "state": {
       "description_width": "",
       "font_size": null,
       "text_color": null
      }
     },
     "2f2b52ae0c2b4c58810e47e78a082dbe": {
      "model_module": "@jupyter-widgets/controls",
      "model_module_version": "2.0.0",
      "model_name": "HTMLStyleModel",
      "state": {
       "description_width": "",
       "font_size": null,
       "text_color": null
      }
     },
     "2f5b8903379448bc95b10082a266f888": {
      "model_module": "@quantum/lab-widgets",
      "model_module_version": "4.0.44",
      "model_name": "CircuitComposerModel",
      "state": {
       "circuit": "\"OPENQASM 2.0;\\ninclude \\\"qelib1.inc\\\";\\nqreg q[1];\\ncreg c[1];\\nh q[0];\\ny q[0];\\n\"",
       "editable": true,
       "layout": "IPY_MODEL_dfc71126c5174fcb96d2d02c1763623b",
       "qiskit_code_cell_index": -1
      }
     },
     "2f78026d3b804192b47442e85d1f78f7": {
      "model_module": "@jupyter-widgets/base",
      "model_module_version": "2.0.0",
      "model_name": "LayoutModel",
      "state": {
       "margin": "0px 0px 0px 37px",
       "width": "600px"
      }
     },
     "2f99b95233984c30a098f655de4ed70b": {
      "model_module": "@jupyter-widgets/base",
      "model_module_version": "2.0.0",
      "model_name": "LayoutModel",
      "state": {
       "width": "190px"
      }
     },
     "31c3855a2c1f41ccabebb8342e8e17d7": {
      "model_module": "@jupyter-widgets/base",
      "model_module_version": "2.0.0",
      "model_name": "LayoutModel",
      "state": {}
     },
     "31d41dfbc01a4ee5bd16efc77c58906b": {
      "model_module": "@jupyter-widgets/controls",
      "model_module_version": "2.0.0",
      "model_name": "HBoxModel",
      "state": {
       "children": [
        "IPY_MODEL_e9acf72f1cb84b6a9fc6b99a8bdf20bb",
        "IPY_MODEL_7e88fced7fe24e5ba4801d380b786fb5",
        "IPY_MODEL_b1512738be294ad9af94442c4f39097d",
        "IPY_MODEL_bb3b95f08dc643c5814917985dc2a1f7",
        "IPY_MODEL_82fb1efe90704ffeb1559e523cbc5f89",
        "IPY_MODEL_9c461372a2e5455e89f82cd45c6f473c"
       ],
       "layout": "IPY_MODEL_1e866449a7e7433d83a3082be8e5a207"
      }
     },
     "31dd2106d92a40048f792b48d8a5ff71": {
      "model_module": "@jupyter-widgets/controls",
      "model_module_version": "2.0.0",
      "model_name": "HTMLStyleModel",
      "state": {
       "description_width": "",
       "font_size": null,
       "text_color": null
      }
     },
     "32bbd87d872f4df79ef8f75390be827d": {
      "model_module": "@jupyter-widgets/base",
      "model_module_version": "2.0.0",
      "model_name": "LayoutModel",
      "state": {
       "max_width": "700px",
       "min_width": "700px"
      }
     },
     "33133a414a5e406bb20ee37975d5ebd4": {
      "model_module": "@jupyter-widgets/controls",
      "model_module_version": "2.0.0",
      "model_name": "ButtonStyleModel",
      "state": {
       "button_color": "white",
       "font_family": null,
       "font_size": null,
       "font_style": null,
       "font_variant": null,
       "font_weight": null,
       "text_color": null,
       "text_decoration": null
      }
     },
     "33443c376b734046909eeef8aa3e4772": {
      "model_module": "@jupyter-widgets/controls",
      "model_module_version": "2.0.0",
      "model_name": "ButtonStyleModel",
      "state": {
       "button_color": "white",
       "font_family": null,
       "font_size": null,
       "font_style": null,
       "font_variant": null,
       "font_weight": null,
       "text_color": null,
       "text_decoration": null
      }
     },
     "341e6e295e444e1fa33cafeb87864b83": {
      "model_module": "@jupyter-widgets/controls",
      "model_module_version": "2.0.0",
      "model_name": "HTMLStyleModel",
      "state": {
       "description_width": "",
       "font_size": null,
       "text_color": null
      }
     },
     "3444df49ae414a0fbf28062146e44537": {
      "model_module": "@jupyter-widgets/base",
      "model_module_version": "2.0.0",
      "model_name": "LayoutModel",
      "state": {}
     },
     "349781f5741548c4a23581a373d0668d": {
      "model_module": "@jupyter-widgets/controls",
      "model_module_version": "2.0.0",
      "model_name": "ButtonStyleModel",
      "state": {
       "button_color": "white",
       "font_family": null,
       "font_size": null,
       "font_style": null,
       "font_variant": null,
       "font_weight": null,
       "text_color": null,
       "text_decoration": null
      }
     },
     "34f41017f0ca4645a19f2b203c0ee123": {
      "model_module": "@jupyter-widgets/base",
      "model_module_version": "2.0.0",
      "model_name": "LayoutModel",
      "state": {
       "width": "190px"
      }
     },
     "352e09f803604f2da4f06a87ea1e161e": {
      "model_module": "@jupyter-widgets/controls",
      "model_module_version": "2.0.0",
      "model_name": "HBoxModel",
      "state": {
       "children": [
        "IPY_MODEL_50cd3ede04d94d19bc6ec22aed756b65",
        "IPY_MODEL_1f45aa02c6f6499cbf700615444f3f73",
        "IPY_MODEL_d35efdba14274c50a61c2444459b9ee7",
        "IPY_MODEL_73fbe9ef1800405dbb8b2dd5331b9ff2",
        "IPY_MODEL_3b70b56289e44b88ad410e8edefd2660",
        "IPY_MODEL_ba2d33bfe2e64f6aa022ec83c59f8eb0"
       ],
       "layout": "IPY_MODEL_800e3ad61c1a486fa748c5407ec2e3b3"
      }
     },
     "35c908f96d69460eab8a5aea77947c7c": {
      "model_module": "@jupyter-widgets/controls",
      "model_module_version": "2.0.0",
      "model_name": "HTMLModel",
      "state": {
       "layout": "IPY_MODEL_b92550cc4cad4d04b1379f29405d8d1c",
       "style": "IPY_MODEL_847dbe9d72c14227bad51a0fc004f64a",
       "value": "<font style='color:#34BC6E'>DONE</font>"
      }
     },
     "3640890d5f014e4e9242954b2a84400f": {
      "model_module": "@jupyter-widgets/base",
      "model_module_version": "2.0.0",
      "model_name": "LayoutModel",
      "state": {
       "margin": "0px 5px 0px 0px",
       "width": "32px"
      }
     },
     "36c80fb3f9f14b479614564025e3bad8": {
      "model_module": "@jupyter-widgets/controls",
      "model_module_version": "2.0.0",
      "model_name": "HTMLModel",
      "state": {
       "layout": "IPY_MODEL_9dc4dcb906e24b10a5a4c5852ac223ed",
       "style": "IPY_MODEL_681d94ae584a48818c965359f356d1ef",
       "value": "<font style='color:#34BC6E'>DONE</font>"
      }
     },
     "372a1c25f2d6489f847b37be1307a389": {
      "model_module": "@jupyter-widgets/base",
      "model_module_version": "2.0.0",
      "model_name": "LayoutModel",
      "state": {
       "width": "145px"
      }
     },
     "3733d47985624926a925c1452e1e8cc9": {
      "model_module": "@jupyter-widgets/base",
      "model_module_version": "2.0.0",
      "model_name": "LayoutModel",
      "state": {
       "margin": "0px 5px 0px 0px",
       "width": "32px"
      }
     },
     "378a6ec52224465090b0d1c951dc0066": {
      "model_module": "@jupyter-widgets/controls",
      "model_module_version": "2.0.0",
      "model_name": "HTMLModel",
      "state": {
       "layout": "IPY_MODEL_40528144c37a45108c8a0c9ba50b2ea6",
       "style": "IPY_MODEL_389f2e8965cd4825b80d9d72abbfa69f",
       "value": "cmc5qqeje57g0082bfag"
      }
     },
     "387975473da842a281abd80cafde1498": {
      "model_module": "@jupyter-widgets/controls",
      "model_module_version": "2.0.0",
      "model_name": "HTMLModel",
      "state": {
       "layout": "IPY_MODEL_f5deb6dbe1e4425fb68a63c1b5fd71ca",
       "style": "IPY_MODEL_7c8065f8886b4ea68a1e820243b48447",
       "value": "ibm_brisbane"
      }
     },
     "387fcea2cf41425c9b9b6c25328683ad": {
      "model_module": "@jupyter-widgets/base",
      "model_module_version": "2.0.0",
      "model_name": "LayoutModel",
      "state": {
       "width": "190px"
      }
     },
     "389f2e8965cd4825b80d9d72abbfa69f": {
      "model_module": "@jupyter-widgets/controls",
      "model_module_version": "2.0.0",
      "model_name": "HTMLStyleModel",
      "state": {
       "description_width": "",
       "font_size": null,
       "text_color": null
      }
     },
     "38b348a554914050b48fdbe54e1bc8c5": {
      "model_module": "@jupyter-widgets/controls",
      "model_module_version": "2.0.0",
      "model_name": "HTMLModel",
      "state": {
       "layout": "IPY_MODEL_bd552783b9dc43feaeb35665bdc29963",
       "style": "IPY_MODEL_0e753460feb046b9959c8bf04aca9c7f",
       "value": "<font style='color:#34BC6E'>DONE</font>"
      }
     },
     "390e044f32814cc4af8b69b7c9c3843c": {
      "model_module": "@jupyter-widgets/controls",
      "model_module_version": "2.0.0",
      "model_name": "HTMLStyleModel",
      "state": {
       "description_width": "",
       "font_size": null,
       "text_color": null
      }
     },
     "390f8fd0e6d14330a0352437a036b3b2": {
      "model_module": "@jupyter-widgets/controls",
      "model_module_version": "2.0.0",
      "model_name": "HTMLStyleModel",
      "state": {
       "description_width": "",
       "font_size": null,
       "text_color": null
      }
     },
     "3a5af5b7809a4072b46d5a143edf6cab": {
      "model_module": "@jupyter-widgets/base",
      "model_module_version": "2.0.0",
      "model_name": "LayoutModel",
      "state": {
       "width": "70px"
      }
     },
     "3a6d87a4fcdf425fb7400148acdd4976": {
      "model_module": "@jupyter-widgets/controls",
      "model_module_version": "2.0.0",
      "model_name": "HTMLModel",
      "state": {
       "layout": "IPY_MODEL_6d935a35139d43709504cb680f01fa57",
       "style": "IPY_MODEL_bbb33cc8eeed496aa065fad235014f0e",
       "value": "<h5>Status</h5>"
      }
     },
     "3ab0da1e3cbb4ddd8054e0896fadc1ea": {
      "model_module": "@jupyter-widgets/controls",
      "model_module_version": "2.0.0",
      "model_name": "HTMLModel",
      "state": {
       "layout": "IPY_MODEL_977995fefb9a40338a430b124579519e",
       "style": "IPY_MODEL_e37982b250414cfca716fb0c203f44da",
       "value": "job has successfully run"
      }
     },
     "3acbf54d11074ff7812ffd92171ba241": {
      "model_module": "@jupyter-widgets/base",
      "model_module_version": "2.0.0",
      "model_name": "LayoutModel",
      "state": {
       "max_width": "700px",
       "min_width": "700px"
      }
     },
     "3b70b56289e44b88ad410e8edefd2660": {
      "model_module": "@jupyter-widgets/controls",
      "model_module_version": "2.0.0",
      "model_name": "HTMLModel",
      "state": {
       "layout": "IPY_MODEL_cb60588b95d54a1c915fbfc21102bc6d",
       "style": "IPY_MODEL_c4cbefbc62044856918572a0a156ff84",
       "value": "-"
      }
     },
     "3c0c074293ae46d6bf8e03cd04cc7e07": {
      "model_module": "@jupyter-widgets/controls",
      "model_module_version": "2.0.0",
      "model_name": "HTMLModel",
      "state": {
       "layout": "IPY_MODEL_a2bac98441664afda6dd35b44bcf1984",
       "style": "IPY_MODEL_66d3c76ff0374d7a95a4c29dcc48ea6c",
       "value": "job has successfully run"
      }
     },
     "3d3cdbfa0e314a6d9b7fb80c1393040c": {
      "model_module": "@jupyter-widgets/base",
      "model_module_version": "2.0.0",
      "model_name": "LayoutModel",
      "state": {}
     },
     "3d8c6d30601943b48d74aadd5b1ce5f9": {
      "model_module": "@jupyter-widgets/base",
      "model_module_version": "2.0.0",
      "model_name": "LayoutModel",
      "state": {
       "width": "70px"
      }
     },
     "3ec1efac673d4231b5863fc89a24a946": {
      "model_module": "@jupyter-widgets/controls",
      "model_module_version": "2.0.0",
      "model_name": "HTMLStyleModel",
      "state": {
       "description_width": "",
       "font_size": null,
       "text_color": null
      }
     },
     "3fa0a8f28d984880b84115728fb7f08f": {
      "model_module": "@jupyter-widgets/controls",
      "model_module_version": "2.0.0",
      "model_name": "ButtonModel",
      "state": {
       "icon": "close",
       "layout": "IPY_MODEL_3733d47985624926a925c1452e1e8cc9",
       "style": "IPY_MODEL_efcc7710170e4ab19a6e5caf74e9b0cb",
       "tooltip": null
      }
     },
     "40528144c37a45108c8a0c9ba50b2ea6": {
      "model_module": "@jupyter-widgets/base",
      "model_module_version": "2.0.0",
      "model_name": "LayoutModel",
      "state": {
       "width": "190px"
      }
     },
     "4118b771218b4c86b199c4b029c34815": {
      "model_module": "@jupyter-widgets/controls",
      "model_module_version": "2.0.0",
      "model_name": "HBoxModel",
      "state": {
       "children": [
        "IPY_MODEL_ba4034e56f874fe6bb7286676d61485f",
        "IPY_MODEL_0c7b5cabbcee448f9e7320898b5dfa52",
        "IPY_MODEL_436c24d982094d098156220f7e783f36",
        "IPY_MODEL_c50d2357692a4cc79f2cd583d19697dd",
        "IPY_MODEL_42006d76c8ea48c5a6d68de60ce2666f",
        "IPY_MODEL_3c0c074293ae46d6bf8e03cd04cc7e07"
       ],
       "layout": "IPY_MODEL_aea9126aa12a493da0159b6bc3dfe148"
      }
     },
     "42006d76c8ea48c5a6d68de60ce2666f": {
      "model_module": "@jupyter-widgets/controls",
      "model_module_version": "2.0.0",
      "model_name": "HTMLModel",
      "state": {
       "layout": "IPY_MODEL_b49d71e5277e4a58a075a48b2a415952",
       "style": "IPY_MODEL_0bcbf3db1d4a4195adee4c713dceaee2",
       "value": "-"
      }
     },
     "429849bc45e54460bfb519cca3d27d06": {
      "model_module": "@jupyter-widgets/base",
      "model_module_version": "2.0.0",
      "model_name": "LayoutModel",
      "state": {}
     },
     "42e1b3e0e619453ab263e0bf9fc2409c": {
      "model_module": "@quantum/lab-widgets",
      "model_module_version": "4.0.44",
      "model_name": "CircuitComposerModel",
      "state": {
       "circuit": "\"OPENQASM 2.0;\\ninclude \\\"qelib1.inc\\\";\\nqreg q[1];\\ncreg c[1];\\nh q[0];\\ny q[0];\\nrx(pi/2) q[0];\\n\"",
       "editable": true,
       "layout": "IPY_MODEL_d11728fdce7b43509b3bd31bad34d569",
       "qiskit_code_cell_index": -1
      }
     },
     "42f898d3fa6948d1a4153114eb46a5d7": {
      "model_module": "@jupyter-widgets/base",
      "model_module_version": "2.0.0",
      "model_name": "LayoutModel",
      "state": {}
     },
     "432c798f7f4e4d478c2e73aa604ad2bb": {
      "model_module": "@jupyter-widgets/base",
      "model_module_version": "2.0.0",
      "model_name": "LayoutModel",
      "state": {
       "width": "95px"
      }
     },
     "436c24d982094d098156220f7e783f36": {
      "model_module": "@jupyter-widgets/controls",
      "model_module_version": "2.0.0",
      "model_name": "HTMLModel",
      "state": {
       "layout": "IPY_MODEL_8c6ec1ffb4174d6389c09f911137d019",
       "style": "IPY_MODEL_902f9d4fd65347ef95a4a3c3fc3976d2",
       "value": "ibm_nairobi"
      }
     },
     "44078fc6352f4082a108f1e77c660144": {
      "model_module": "@jupyter-widgets/base",
      "model_module_version": "2.0.0",
      "model_name": "LayoutModel",
      "state": {
       "width": "145px"
      }
     },
     "445cd96932b64957a95abe0ae3fb133b": {
      "model_module": "@jupyter-widgets/controls",
      "model_module_version": "2.0.0",
      "model_name": "HTMLStyleModel",
      "state": {
       "description_width": "",
       "font_size": null,
       "text_color": null
      }
     },
     "4587d28367464d6d870be7462e62f7a4": {
      "model_module": "@quantum/lab-widgets",
      "model_module_version": "4.0.44",
      "model_name": "CircuitComposerModel",
      "state": {
       "circuit": "\"OPENQASM 2.0;\\ninclude \\\"qelib1.inc\\\";\\nqreg q[1];\\ncreg c[1];\\nh q[0];\\np(pi/2) q[0];\\n\"",
       "editable": true,
       "layout": "IPY_MODEL_d3cb6a9cb5c947a280301d42410d95e9",
       "qiskit_code_cell_index": -1
      }
     },
     "45c4e55de3944078a606927733cc05eb": {
      "model_module": "@jupyter-widgets/controls",
      "model_module_version": "2.0.0",
      "model_name": "HTMLStyleModel",
      "state": {
       "description_width": "",
       "font_size": null,
       "text_color": null
      }
     },
     "46b7a5496f44478ea520f8e75c4b4d90": {
      "model_module": "@jupyter-widgets/controls",
      "model_module_version": "2.0.0",
      "model_name": "HTMLModel",
      "state": {
       "layout": "IPY_MODEL_8021179663cc41cc86389130825c94d1",
       "style": "IPY_MODEL_1b96d24ad7fa4bf4afcc0fa649e68f7a",
       "value": "<font style='color:#34BC6E'>DONE</font>"
      }
     },
     "46cebddd36bd421796a110abf5dd621b": {
      "model_module": "@jupyter-widgets/controls",
      "model_module_version": "2.0.0",
      "model_name": "HTMLStyleModel",
      "state": {
       "description_width": "",
       "font_size": null,
       "text_color": null
      }
     },
     "476895ea99ab493bb3874b7b2320026f": {
      "model_module": "@quantum/lab-widgets",
      "model_module_version": "4.0.44",
      "model_name": "CircuitComposerModel",
      "state": {
       "circuit": "\"OPENQASM 2.0;\\ninclude \\\"qelib1.inc\\\";\\nqreg q[1];\\ncreg c[1];\\nh q[0];\\nu(pi/2,pi/4,pi/8) q[0];\\n\"",
       "editable": true,
       "layout": "IPY_MODEL_68a36933129244ad9bb7105f18e83389",
       "qiskit_code_cell_index": -1
      }
     },
     "47c1575ed2d645b791e171b836f65508": {
      "model_module": "@jupyter-widgets/controls",
      "model_module_version": "2.0.0",
      "model_name": "ButtonStyleModel",
      "state": {
       "font_family": null,
       "font_size": null,
       "font_style": null,
       "font_variant": null,
       "font_weight": null,
       "text_color": null,
       "text_decoration": null
      }
     },
     "47c409286a4942a1bc90ee32972d76a6": {
      "model_module": "@quantum/lab-widgets",
      "model_module_version": "4.0.44",
      "model_name": "CircuitComposerModel",
      "state": {
       "circuit": "\"OPENQASM 2.0;\\ninclude \\\"qelib1.inc\\\";\\nqreg q[1];\\ncreg c[1];\\nh q[0];\\nmeasure q[0] -> c[0];\\n\"",
       "editable": true,
       "layout": "IPY_MODEL_3d3cdbfa0e314a6d9b7fb80c1393040c",
       "qiskit_code_cell_index": -1
      }
     },
     "4b9633a0b3ac4f7da7b82e3f124945d6": {
      "model_module": "@jupyter-widgets/controls",
      "model_module_version": "2.0.0",
      "model_name": "HTMLModel",
      "state": {
       "layout": "IPY_MODEL_ce5326c1d6784eb5b77eb0261582d51c",
       "style": "IPY_MODEL_81b9abc1ef544644a2e06654c1c93edf",
       "value": "job has successfully run"
      }
     },
     "4beec8401f8c456c8b72ce1505dd6526": {
      "model_module": "@jupyter-widgets/base",
      "model_module_version": "2.0.0",
      "model_name": "LayoutModel",
      "state": {
       "width": "190px"
      }
     },
     "4c22a27bc8c64448bdee690a2f4d0a11": {
      "model_module": "@jupyter-widgets/base",
      "model_module_version": "2.0.0",
      "model_name": "LayoutModel",
      "state": {
       "width": "145px"
      }
     },
     "4c5a177007e347e98aed591c2de551fb": {
      "model_module": "@jupyter-widgets/controls",
      "model_module_version": "2.0.0",
      "model_name": "HTMLStyleModel",
      "state": {
       "description_width": "",
       "font_size": null,
       "text_color": null
      }
     },
     "4d27801cc69244928ce47b9c84722d76": {
      "model_module": "@jupyter-widgets/base",
      "model_module_version": "2.0.0",
      "model_name": "LayoutModel",
      "state": {}
     },
     "4d2ae8a6ecd943d382c6a28fca56ebd7": {
      "model_module": "@jupyter-widgets/base",
      "model_module_version": "2.0.0",
      "model_name": "LayoutModel",
      "state": {
       "margin": "0px 5px 0px 0px",
       "width": "32px"
      }
     },
     "4d6f8a82cce84081871c4a8c473e5bbd": {
      "model_module": "@jupyter-widgets/controls",
      "model_module_version": "2.0.0",
      "model_name": "HTMLStyleModel",
      "state": {
       "description_width": "",
       "font_size": null,
       "text_color": null
      }
     },
     "4ffba5bf61b347caaff375a81c5f4cce": {
      "model_module": "@jupyter-widgets/controls",
      "model_module_version": "2.0.0",
      "model_name": "HTMLModel",
      "state": {
       "layout": "IPY_MODEL_08627ec491ef4a8c8c3b00fd6ac53d6b",
       "style": "IPY_MODEL_341e6e295e444e1fa33cafeb87864b83",
       "value": "<h5>Message</h5>"
      }
     },
     "4ffe708217124104b17e20af38278025": {
      "model_module": "@jupyter-widgets/controls",
      "model_module_version": "2.0.0",
      "model_name": "HTMLStyleModel",
      "state": {
       "description_width": "",
       "font_size": null,
       "text_color": null
      }
     },
     "505f738067ac4a16ab6622ac1864709d": {
      "model_module": "@jupyter-widgets/controls",
      "model_module_version": "2.0.0",
      "model_name": "HTMLStyleModel",
      "state": {
       "description_width": "",
       "font_size": null,
       "text_color": null
      }
     },
     "50cd3ede04d94d19bc6ec22aed756b65": {
      "model_module": "@jupyter-widgets/controls",
      "model_module_version": "2.0.0",
      "model_name": "ButtonModel",
      "state": {
       "icon": "close",
       "layout": "IPY_MODEL_3640890d5f014e4e9242954b2a84400f",
       "style": "IPY_MODEL_33133a414a5e406bb20ee37975d5ebd4",
       "tooltip": null
      }
     },
     "5239ca04a5844cb3a6956f2d146be369": {
      "model_module": "@jupyter-widgets/controls",
      "model_module_version": "2.0.0",
      "model_name": "HTMLStyleModel",
      "state": {
       "description_width": "",
       "font_size": null,
       "text_color": null
      }
     },
     "535cc9a721bf4bc286f3421420e54cd0": {
      "model_module": "@jupyter-widgets/controls",
      "model_module_version": "2.0.0",
      "model_name": "ButtonStyleModel",
      "state": {
       "button_color": "white",
       "font_family": null,
       "font_size": null,
       "font_style": null,
       "font_variant": null,
       "font_weight": null,
       "text_color": null,
       "text_decoration": null
      }
     },
     "5426e624d19a45db9ad935e2498519bd": {
      "model_module": "@jupyter-widgets/base",
      "model_module_version": "2.0.0",
      "model_name": "LayoutModel",
      "state": {}
     },
     "54970dc1832f410ab4d06cff25fd809a": {
      "model_module": "@jupyter-widgets/base",
      "model_module_version": "2.0.0",
      "model_name": "LayoutModel",
      "state": {}
     },
     "54a4a7c93ade492381a2dcc579527745": {
      "model_module": "@jupyter-widgets/base",
      "model_module_version": "2.0.0",
      "model_name": "LayoutModel",
      "state": {
       "width": "190px"
      }
     },
     "54e38aadbbdf4c16b0eebf7826bd9a6a": {
      "model_module": "@jupyter-widgets/controls",
      "model_module_version": "2.0.0",
      "model_name": "HBoxModel",
      "state": {
       "children": [
        "IPY_MODEL_a1b17d75c50d4e9897c36074e3ff421e",
        "IPY_MODEL_99cbb22e561d489bb3cad0563613ada6",
        "IPY_MODEL_2d2264a0d45a4d8d94f59854f866f15a",
        "IPY_MODEL_35c908f96d69460eab8a5aea77947c7c",
        "IPY_MODEL_62bf485ae47540daa622d398bd114e2a",
        "IPY_MODEL_046adafe52ef435492d91608a7035d6c"
       ],
       "layout": "IPY_MODEL_0024b3a98da64bd28b745329271d0b6a"
      }
     },
     "54fa71f990704126866543cc61833b17": {
      "model_module": "@jupyter-widgets/controls",
      "model_module_version": "2.0.0",
      "model_name": "HTMLModel",
      "state": {
       "layout": "IPY_MODEL_8d051ddfaa7c458b9d17e3bf68d0ec21",
       "style": "IPY_MODEL_4c5a177007e347e98aed591c2de551fb",
       "value": "job has successfully run"
      }
     },
     "57f5561f6ea04f5fa56633b264b1687b": {
      "model_module": "@jupyter-widgets/base",
      "model_module_version": "2.0.0",
      "model_name": "LayoutModel",
      "state": {
       "margin": "0px 5px 0px 0px",
       "width": "32px"
      }
     },
     "595b974d7c694c86a185d9d0d532f2ce": {
      "model_module": "@jupyter-widgets/controls",
      "model_module_version": "2.0.0",
      "model_name": "HTMLModel",
      "state": {
       "layout": "IPY_MODEL_f5d0cc057213486c9dbe2797f498fd62",
       "style": "IPY_MODEL_31dd2106d92a40048f792b48d8a5ff71",
       "value": "cmc5q85wqgx0008yk2w0"
      }
     },
     "59b4cfc7c0f24c498ecf6f5e0f1bb4e0": {
      "model_module": "@jupyter-widgets/base",
      "model_module_version": "2.0.0",
      "model_name": "LayoutModel",
      "state": {
       "margin": "0px 0px 10px 0px"
      }
     },
     "5a719150db3e4f1993714acf85b583a6": {
      "model_module": "@jupyter-widgets/base",
      "model_module_version": "2.0.0",
      "model_name": "LayoutModel",
      "state": {
       "max_width": "700px",
       "min_width": "700px"
      }
     },
     "5a934f394c42414f9671c482bf2c62e9": {
      "model_module": "@jupyter-widgets/controls",
      "model_module_version": "2.0.0",
      "model_name": "HTMLModel",
      "state": {
       "layout": "IPY_MODEL_21ce9eff46904faa8881d86b725a2291",
       "style": "IPY_MODEL_a6f168840eb14bb8a06b9edf6ba087fb",
       "value": "<font style='color:#34BC6E'>DONE</font>"
      }
     },
     "5adde4de02c84e0dafa5c60e26d75dcb": {
      "model_module": "@jupyter-widgets/controls",
      "model_module_version": "2.0.0",
      "model_name": "HTMLModel",
      "state": {
       "layout": "IPY_MODEL_3d8c6d30601943b48d74aadd5b1ce5f9",
       "style": "IPY_MODEL_c62e2ab33fed4a0495ba836f22b24d6c",
       "value": "-"
      }
     },
     "5b06b83d739646e3a6a4d869e4290004": {
      "model_module": "@jupyter-widgets/base",
      "model_module_version": "2.0.0",
      "model_name": "LayoutModel",
      "state": {
       "margin": "0px 5px 0px 0px",
       "width": "32px"
      }
     },
     "5e3aa82da649423a9b5b00cc0771dafc": {
      "model_module": "@jupyter-widgets/controls",
      "model_module_version": "2.0.0",
      "model_name": "HTMLStyleModel",
      "state": {
       "description_width": "",
       "font_size": null,
       "text_color": null
      }
     },
     "5e64aff2db81464ebb6223533619c15a": {
      "model_module": "@jupyter-widgets/controls",
      "model_module_version": "2.0.0",
      "model_name": "HTMLStyleModel",
      "state": {
       "description_width": "",
       "font_size": null,
       "text_color": null
      }
     },
     "60904d0f46064e5c9e0d8546c4fd2ed3": {
      "model_module": "@jupyter-widgets/base",
      "model_module_version": "2.0.0",
      "model_name": "LayoutModel",
      "state": {
       "width": "190px"
      }
     },
     "617f6138e9cb4a4586c951090bba77ae": {
      "model_module": "@jupyter-widgets/controls",
      "model_module_version": "2.0.0",
      "model_name": "HTMLModel",
      "state": {
       "layout": "IPY_MODEL_2f99b95233984c30a098f655de4ed70b",
       "style": "IPY_MODEL_f1ae63bb420d4a07bba34b20343247c3",
       "value": "cmc3ysbnpt50008r2e9g"
      }
     },
     "61d3216ba6544c23a12f5b69f59306a8": {
      "model_module": "@jupyter-widgets/controls",
      "model_module_version": "2.0.0",
      "model_name": "HTMLStyleModel",
      "state": {
       "description_width": "",
       "font_size": null,
       "text_color": null
      }
     },
     "62bf485ae47540daa622d398bd114e2a": {
      "model_module": "@jupyter-widgets/controls",
      "model_module_version": "2.0.0",
      "model_name": "HTMLModel",
      "state": {
       "layout": "IPY_MODEL_d053b52207f446c299f1d3e3aef8e724",
       "style": "IPY_MODEL_46cebddd36bd421796a110abf5dd621b",
       "value": "-"
      }
     },
     "62e2579e2a924cdaa1bdff448f70c49e": {
      "model_module": "@jupyter-widgets/controls",
      "model_module_version": "2.0.0",
      "model_name": "HTMLModel",
      "state": {
       "layout": "IPY_MODEL_c3f69abd6f154ef0b3fee8befa127532",
       "style": "IPY_MODEL_a7a589f097084dc99e0fddc791b687fe",
       "value": "ibm_nairobi"
      }
     },
     "62ec7fc446a34b6aa61ad3f950a690d0": {
      "model_module": "@jupyter-widgets/controls",
      "model_module_version": "2.0.0",
      "model_name": "HBoxModel",
      "state": {
       "children": [
        "IPY_MODEL_93282aa614084ab69ab81cc280a1d80b",
        "IPY_MODEL_00bd9bb3a6b8475da8a3ddc4067b026e",
        "IPY_MODEL_0230e50e35934346973c31da17774514",
        "IPY_MODEL_38b348a554914050b48fdbe54e1bc8c5",
        "IPY_MODEL_5adde4de02c84e0dafa5c60e26d75dcb",
        "IPY_MODEL_54fa71f990704126866543cc61833b17"
       ],
       "layout": "IPY_MODEL_8155f6becdcf41d8995a902e4bfd5cda"
      }
     },
     "6348f8aa823f4a73a4dd713f7ef4fe52": {
      "model_module": "@jupyter-widgets/controls",
      "model_module_version": "2.0.0",
      "model_name": "HBoxModel",
      "state": {
       "children": [
        "IPY_MODEL_d5534605b6f1425e8a8fb2f354503a7e",
        "IPY_MODEL_a5f59b2bd4614c02822acb51f8ee851d",
        "IPY_MODEL_b8999424de1e4747bf598c0bcdda493a",
        "IPY_MODEL_1cfca20c59dc47e1aa64e171fbdfebf4",
        "IPY_MODEL_8916f4346adf4380acdbc7fe71a7fcab",
        "IPY_MODEL_f9ac80cab3534db983ecf02f6a687fa3"
       ],
       "layout": "IPY_MODEL_32bbd87d872f4df79ef8f75390be827d"
      }
     },
     "635dd1bd5af640209eeed17c48922f30": {
      "model_module": "@jupyter-widgets/controls",
      "model_module_version": "2.0.0",
      "model_name": "ButtonModel",
      "state": {
       "icon": "close",
       "layout": "IPY_MODEL_5b06b83d739646e3a6a4d869e4290004",
       "style": "IPY_MODEL_271731e23690436b8e4c2f973fecbcaf",
       "tooltip": null
      }
     },
     "637a27f0ccae46b695b8b941804192a3": {
      "model_module": "@jupyter-widgets/controls",
      "model_module_version": "2.0.0",
      "model_name": "HTMLStyleModel",
      "state": {
       "description_width": "",
       "font_size": null,
       "text_color": null
      }
     },
     "6392d3f1fcb349fb82e6f0276929d2cb": {
      "model_module": "@jupyter-widgets/controls",
      "model_module_version": "2.0.0",
      "model_name": "HTMLModel",
      "state": {
       "layout": "IPY_MODEL_e6b8fbb7914348a8a4d4d6e098bfa5b5",
       "style": "IPY_MODEL_bcbe804fa46c4e6ea8dd4d2a0efb4251",
       "value": "<font style='color:#34BC6E'>DONE</font>"
      }
     },
     "63afbb5f6f344838a34a196408912454": {
      "model_module": "@jupyter-widgets/base",
      "model_module_version": "2.0.0",
      "model_name": "LayoutModel",
      "state": {}
     },
     "643dbe8d47af4ecebd703ef4d5d1fd33": {
      "model_module": "@jupyter-widgets/controls",
      "model_module_version": "2.0.0",
      "model_name": "ButtonModel",
      "state": {
       "icon": "close",
       "layout": "IPY_MODEL_966dee0a973d4cc7bbf0af4c10b1c64f",
       "style": "IPY_MODEL_e98dcca654bb487d92989156ba7007ba",
       "tooltip": null
      }
     },
     "64839682d3cd48669d1ff4ebd96839e0": {
      "model_module": "@jupyter-widgets/controls",
      "model_module_version": "2.0.0",
      "model_name": "ButtonModel",
      "state": {
       "icon": "close",
       "layout": "IPY_MODEL_6f43e96296b54e51bea7561e829462d9",
       "style": "IPY_MODEL_b285e168a7654e658d1a5585b1d7fe07",
       "tooltip": null
      }
     },
     "66d3c76ff0374d7a95a4c29dcc48ea6c": {
      "model_module": "@jupyter-widgets/controls",
      "model_module_version": "2.0.0",
      "model_name": "HTMLStyleModel",
      "state": {
       "description_width": "",
       "font_size": null,
       "text_color": null
      }
     },
     "681d94ae584a48818c965359f356d1ef": {
      "model_module": "@jupyter-widgets/controls",
      "model_module_version": "2.0.0",
      "model_name": "HTMLStyleModel",
      "state": {
       "description_width": "",
       "font_size": null,
       "text_color": null
      }
     },
     "688cb73c024540f2bbd4add9bb97ca70": {
      "model_module": "@jupyter-widgets/controls",
      "model_module_version": "2.0.0",
      "model_name": "HTMLModel",
      "state": {
       "layout": "IPY_MODEL_d8999e1a57d94732b1f30f966e88e3c9",
       "style": "IPY_MODEL_c9d7624753a448e9abf3ed4baba7b30f",
       "value": "<font style='color:#34BC6E'>DONE</font>"
      }
     },
     "68a36933129244ad9bb7105f18e83389": {
      "model_module": "@jupyter-widgets/base",
      "model_module_version": "2.0.0",
      "model_name": "LayoutModel",
      "state": {}
     },
     "69e2b9e7a11448ec935ada98604d8003": {
      "model_module": "@jupyter-widgets/controls",
      "model_module_version": "2.0.0",
      "model_name": "HBoxModel",
      "state": {
       "children": [
        "IPY_MODEL_b160038ad172451cae46d546c435a4e4",
        "IPY_MODEL_0d0650f62bbf44fcbb8496345b0aae76",
        "IPY_MODEL_62e2579e2a924cdaa1bdff448f70c49e",
        "IPY_MODEL_03207de2565b42ce9c79d27f400df89d",
        "IPY_MODEL_2a2d8d1c810145aca0ed51ccf979d273",
        "IPY_MODEL_4b9633a0b3ac4f7da7b82e3f124945d6"
       ],
       "layout": "IPY_MODEL_f603b6b0889048b39cc3fa23b9b90e1d"
      }
     },
     "6bf0f7bb8707486a8879f4ee7218d0ff": {
      "model_module": "@jupyter-widgets/controls",
      "model_module_version": "2.0.0",
      "model_name": "HTMLStyleModel",
      "state": {
       "description_width": "",
       "font_size": null,
       "text_color": null
      }
     },
     "6c8620e7b7b149a49f24c59d17fd65c7": {
      "model_module": "@jupyter-widgets/controls",
      "model_module_version": "2.0.0",
      "model_name": "HTMLStyleModel",
      "state": {
       "description_width": "",
       "font_size": null,
       "text_color": null
      }
     },
     "6ccc62bbcb8a48a3ac469ff6284a7913": {
      "model_module": "@jupyter-widgets/base",
      "model_module_version": "2.0.0",
      "model_name": "LayoutModel",
      "state": {}
     },
     "6d7a469c23cf442aa3bf03f3647097b0": {
      "model_module": "@jupyter-widgets/controls",
      "model_module_version": "2.0.0",
      "model_name": "HBoxModel",
      "state": {
       "children": [
        "IPY_MODEL_3fa0a8f28d984880b84115728fb7f08f",
        "IPY_MODEL_16adee0ec34e44e3a568f7cbb6f934a3",
        "IPY_MODEL_056b0773533b41928306bce11b96d921",
        "IPY_MODEL_46b7a5496f44478ea520f8e75c4b4d90",
        "IPY_MODEL_c89a94062634489995591566c012f036",
        "IPY_MODEL_bb6171358dad44af81e5929fdb2767f0"
       ],
       "layout": "IPY_MODEL_0d174492a6a5441abf4a2fda74f2099a"
      }
     },
     "6d935a35139d43709504cb680f01fa57": {
      "model_module": "@jupyter-widgets/base",
      "model_module_version": "2.0.0",
      "model_name": "LayoutModel",
      "state": {
       "width": "95px"
      }
     },
     "6e2c02b5ae5b452ea6857d65299c848b": {
      "model_module": "@jupyter-widgets/base",
      "model_module_version": "2.0.0",
      "model_name": "LayoutModel",
      "state": {}
     },
     "6e40ca7de879490089b9a33362edd008": {
      "model_module": "@jupyter-widgets/base",
      "model_module_version": "2.0.0",
      "model_name": "LayoutModel",
      "state": {
       "width": "95px"
      }
     },
     "6e874b8e3b53462e8c1efa35c79c6aae": {
      "model_module": "@jupyter-widgets/base",
      "model_module_version": "2.0.0",
      "model_name": "LayoutModel",
      "state": {
       "width": "70px"
      }
     },
     "6f3ab3ac979044358b595ab50f30f904": {
      "model_module": "@jupyter-widgets/base",
      "model_module_version": "2.0.0",
      "model_name": "LayoutModel",
      "state": {
       "width": "145px"
      }
     },
     "6f43e96296b54e51bea7561e829462d9": {
      "model_module": "@jupyter-widgets/base",
      "model_module_version": "2.0.0",
      "model_name": "LayoutModel",
      "state": {
       "margin": "0px 5px 0px 0px",
       "width": "32px"
      }
     },
     "6fc776af7a3644c78d1d58f3d9c6f154": {
      "model_module": "@jupyter-widgets/base",
      "model_module_version": "2.0.0",
      "model_name": "LayoutModel",
      "state": {}
     },
     "705f59e68936413a8c01a2ffc3acce06": {
      "model_module": "@jupyter-widgets/controls",
      "model_module_version": "2.0.0",
      "model_name": "HTMLModel",
      "state": {
       "layout": "IPY_MODEL_f50f93c7fd4e42e5a6b0f7a29e57c6b3",
       "style": "IPY_MODEL_cdc51f9821294e2d9285f1fc04429b1e",
       "value": "cmc4zz7q6frg00819610"
      }
     },
     "709ae173a6424d92a745818490c59628": {
      "model_module": "@quantum/lab-widgets",
      "model_module_version": "4.0.44",
      "model_name": "CircuitComposerModel",
      "state": {
       "circuit": "\"OPENQASM 2.0;\\ninclude \\\"qelib1.inc\\\";\\nqreg q[1];\\ncreg c[1];\\nh q[0];\\nu(pi/2,pi/4,pi/8) q[0];\\n\"",
       "editable": true,
       "layout": "IPY_MODEL_3444df49ae414a0fbf28062146e44537",
       "qiskit_code_cell_index": -1
      }
     },
     "720556aa88ef4f4abd38e88ac5f63fcc": {
      "model_module": "@jupyter-widgets/base",
      "model_module_version": "2.0.0",
      "model_name": "LayoutModel",
      "state": {}
     },
     "721e3e590a554263b661a42229955f84": {
      "model_module": "@jupyter-widgets/controls",
      "model_module_version": "2.0.0",
      "model_name": "ButtonModel",
      "state": {
       "icon": "close",
       "layout": "IPY_MODEL_7c28e312eb1f4dd0a3ce3889203dfb8c",
       "style": "IPY_MODEL_db5da36d1d424d318be5d7fa76cd6113",
       "tooltip": null
      }
     },
     "733b6458efcf4692a7612355daa2381b": {
      "model_module": "@jupyter-widgets/base",
      "model_module_version": "2.0.0",
      "model_name": "LayoutModel",
      "state": {
       "width": "95px"
      }
     },
     "739d16b23a334ef1bc94303a20a918a7": {
      "model_module": "@jupyter-widgets/controls",
      "model_module_version": "2.0.0",
      "model_name": "HTMLStyleModel",
      "state": {
       "description_width": "",
       "font_size": null,
       "text_color": null
      }
     },
     "73c2e2538228418e809dc43ebc497d9f": {
      "model_module": "@jupyter-widgets/controls",
      "model_module_version": "2.0.0",
      "model_name": "HTMLStyleModel",
      "state": {
       "description_width": "",
       "font_size": null,
       "text_color": null
      }
     },
     "73fbe9ef1800405dbb8b2dd5331b9ff2": {
      "model_module": "@jupyter-widgets/controls",
      "model_module_version": "2.0.0",
      "model_name": "HTMLModel",
      "state": {
       "layout": "IPY_MODEL_6e40ca7de879490089b9a33362edd008",
       "style": "IPY_MODEL_29fe053dbc2b4e4aadeee266ccd1898f",
       "value": "<font style='color:#34BC6E'>DONE</font>"
      }
     },
     "747abedb87a54c519c5396d95ec52025": {
      "model_module": "@jupyter-widgets/controls",
      "model_module_version": "2.0.0",
      "model_name": "HTMLModel",
      "state": {
       "layout": "IPY_MODEL_004c96b8d2d44dc3b86d8182aac6a55d",
       "style": "IPY_MODEL_0cd90c16870f43bb9b49cc07b5f70612",
       "value": "-"
      }
     },
     "74fa2a4832934ce6888848bda8dfc77e": {
      "model_module": "@jupyter-widgets/controls",
      "model_module_version": "2.0.0",
      "model_name": "HTMLStyleModel",
      "state": {
       "description_width": "",
       "font_size": null,
       "text_color": null
      }
     },
     "74fede57531043f6a0cacb663a6de402": {
      "model_module": "@jupyter-widgets/base",
      "model_module_version": "2.0.0",
      "model_name": "LayoutModel",
      "state": {
       "max_width": "700px",
       "min_width": "700px"
      }
     },
     "753a7df814f7442a9783f29d21e40f36": {
      "model_module": "@jupyter-widgets/controls",
      "model_module_version": "2.0.0",
      "model_name": "HTMLModel",
      "state": {
       "layout": "IPY_MODEL_1b9f7b309f1644a7836badb7594f5676",
       "style": "IPY_MODEL_15c7d597ecff47b3b574c57ea4320ff9",
       "value": "ibm_nairobi"
      }
     },
     "76892787acbf49ce9f3cb44da1159f3d": {
      "model_module": "@jupyter-widgets/base",
      "model_module_version": "2.0.0",
      "model_name": "LayoutModel",
      "state": {
       "max_width": "700px",
       "min_width": "700px"
      }
     },
     "77cb413740ea41a3ac441f0cda74f19c": {
      "model_module": "@jupyter-widgets/controls",
      "model_module_version": "2.0.0",
      "model_name": "HTMLStyleModel",
      "state": {
       "description_width": "",
       "font_size": null,
       "text_color": null
      }
     },
     "7877e33de8ba4b6dae99d8c662b61a86": {
      "model_module": "@jupyter-widgets/base",
      "model_module_version": "2.0.0",
      "model_name": "LayoutModel",
      "state": {
       "width": "70px"
      }
     },
     "78dfc6f1e79340f2b9358333b02330db": {
      "model_module": "@jupyter-widgets/controls",
      "model_module_version": "2.0.0",
      "model_name": "HTMLStyleModel",
      "state": {
       "description_width": "",
       "font_size": null,
       "text_color": null
      }
     },
     "7937f8aa8f53475d9fc55cb9fc83712c": {
      "model_module": "@jupyter-widgets/controls",
      "model_module_version": "2.0.0",
      "model_name": "ButtonStyleModel",
      "state": {
       "button_color": "white",
       "font_family": null,
       "font_size": null,
       "font_style": null,
       "font_variant": null,
       "font_weight": null,
       "text_color": null,
       "text_decoration": null
      }
     },
     "7b3164af7e3b466a81cddecc190d1334": {
      "model_module": "@jupyter-widgets/controls",
      "model_module_version": "2.0.0",
      "model_name": "HTMLModel",
      "state": {
       "layout": "IPY_MODEL_e93e1bd0b3b343c5be067ce37b8f1380",
       "style": "IPY_MODEL_7df8fa1f941f4c71841489c322c6e884",
       "value": "<font style='color:#34BC6E'>DONE</font>"
      }
     },
     "7b38276eec0a4ce2997a9ca3fecf7238": {
      "model_module": "@jupyter-widgets/controls",
      "model_module_version": "2.0.0",
      "model_name": "HTMLStyleModel",
      "state": {
       "description_width": "",
       "font_size": null,
       "text_color": null
      }
     },
     "7c28e312eb1f4dd0a3ce3889203dfb8c": {
      "model_module": "@jupyter-widgets/base",
      "model_module_version": "2.0.0",
      "model_name": "LayoutModel",
      "state": {
       "margin": "0px 5px 0px 0px",
       "width": "32px"
      }
     },
     "7c8065f8886b4ea68a1e820243b48447": {
      "model_module": "@jupyter-widgets/controls",
      "model_module_version": "2.0.0",
      "model_name": "HTMLStyleModel",
      "state": {
       "description_width": "",
       "font_size": null,
       "text_color": null
      }
     },
     "7ce9eaf88620421fb02e696f2182e004": {
      "model_module": "@jupyter-widgets/base",
      "model_module_version": "2.0.0",
      "model_name": "LayoutModel",
      "state": {
       "width": "95px"
      }
     },
     "7d2c44e7400f4ec0aa36697f0f1f67b7": {
      "model_module": "@jupyter-widgets/controls",
      "model_module_version": "2.0.0",
      "model_name": "HTMLStyleModel",
      "state": {
       "description_width": "",
       "font_size": null,
       "text_color": null
      }
     },
     "7d94a7e700164f8380e297fcf027d247": {
      "model_module": "@jupyter-widgets/controls",
      "model_module_version": "2.0.0",
      "model_name": "HTMLModel",
      "state": {
       "layout": "IPY_MODEL_be270f74a662419898b50e6975b2ffa2",
       "style": "IPY_MODEL_73c2e2538228418e809dc43ebc497d9f",
       "value": "<font style='color:#34BC6E'>DONE</font>"
      }
     },
     "7db6b1d4ac484234ae1a74a10d21bede": {
      "model_module": "@jupyter-widgets/controls",
      "model_module_version": "2.0.0",
      "model_name": "HTMLModel",
      "state": {
       "layout": "IPY_MODEL_95cafd91c40c443bb4c78a09ae1ebaa9",
       "style": "IPY_MODEL_e26288d74aa0437ea5ccfb958b1e58eb",
       "value": "job has successfully run"
      }
     },
     "7df8fa1f941f4c71841489c322c6e884": {
      "model_module": "@jupyter-widgets/controls",
      "model_module_version": "2.0.0",
      "model_name": "HTMLStyleModel",
      "state": {
       "description_width": "",
       "font_size": null,
       "text_color": null
      }
     },
     "7e3030ddd8054f09af717e610ae6c4d1": {
      "model_module": "@jupyter-widgets/controls",
      "model_module_version": "2.0.0",
      "model_name": "HTMLStyleModel",
      "state": {
       "description_width": "",
       "font_size": null,
       "text_color": null
      }
     },
     "7e802ac46fb1429e9d5acf4f931e09be": {
      "model_module": "@jupyter-widgets/base",
      "model_module_version": "2.0.0",
      "model_name": "LayoutModel",
      "state": {
       "width": "190px"
      }
     },
     "7e88fced7fe24e5ba4801d380b786fb5": {
      "model_module": "@jupyter-widgets/controls",
      "model_module_version": "2.0.0",
      "model_name": "HTMLModel",
      "state": {
       "layout": "IPY_MODEL_60904d0f46064e5c9e0d8546c4fd2ed3",
       "style": "IPY_MODEL_05b88cb786e74a638c66b00e939b8e71",
       "value": "cmc3mgjfjvfg008bebsg"
      }
     },
     "7f5e7c11890d4dac8f5db50c381a0055": {
      "model_module": "@jupyter-widgets/controls",
      "model_module_version": "2.0.0",
      "model_name": "HTMLModel",
      "state": {
       "layout": "IPY_MODEL_fc987cee365047bf8be1e58b0aed5a11",
       "style": "IPY_MODEL_f485cc11b7f3441e9a0a75dd81ddc450",
       "value": "cmc5ky7fjvfg008becv0"
      }
     },
     "7f754399dfa3465da9cadca4aad6fa9f": {
      "model_module": "@jupyter-widgets/controls",
      "model_module_version": "2.0.0",
      "model_name": "HTMLModel",
      "state": {
       "layout": "IPY_MODEL_aef9dfaac73e4daf9881714f07754d08",
       "style": "IPY_MODEL_77cb413740ea41a3ac441f0cda74f19c",
       "value": "job has successfully run"
      }
     },
     "7ff3c307a1424fb0a7da227fa1564f36": {
      "model_module": "@jupyter-widgets/controls",
      "model_module_version": "2.0.0",
      "model_name": "ButtonStyleModel",
      "state": {
       "button_color": "white",
       "font_family": null,
       "font_size": null,
       "font_style": null,
       "font_variant": null,
       "font_weight": null,
       "text_color": null,
       "text_decoration": null
      }
     },
     "800e3ad61c1a486fa748c5407ec2e3b3": {
      "model_module": "@jupyter-widgets/base",
      "model_module_version": "2.0.0",
      "model_name": "LayoutModel",
      "state": {
       "max_width": "700px",
       "min_width": "700px"
      }
     },
     "8021179663cc41cc86389130825c94d1": {
      "model_module": "@jupyter-widgets/base",
      "model_module_version": "2.0.0",
      "model_name": "LayoutModel",
      "state": {
       "width": "95px"
      }
     },
     "8155f6becdcf41d8995a902e4bfd5cda": {
      "model_module": "@jupyter-widgets/base",
      "model_module_version": "2.0.0",
      "model_name": "LayoutModel",
      "state": {
       "max_width": "700px",
       "min_width": "700px"
      }
     },
     "81b9abc1ef544644a2e06654c1c93edf": {
      "model_module": "@jupyter-widgets/controls",
      "model_module_version": "2.0.0",
      "model_name": "HTMLStyleModel",
      "state": {
       "description_width": "",
       "font_size": null,
       "text_color": null
      }
     },
     "8200f193665449ef9a656fdabac46553": {
      "model_module": "@jupyter-widgets/base",
      "model_module_version": "2.0.0",
      "model_name": "LayoutModel",
      "state": {}
     },
     "82e94d378ed347bcb8b0f476df160f3a": {
      "model_module": "@quantum/lab-widgets",
      "model_module_version": "4.0.44",
      "model_name": "CircuitComposerModel",
      "state": {
       "circuit": "\"OPENQASM 2.0;\\ninclude \\\"qelib1.inc\\\";\\nqreg q[3];\\ncreg c[3];\\n\"",
       "editable": true,
       "layout": "IPY_MODEL_bd075fffd04645e9bb2208129cbfb2ab",
       "qiskit_code_cell_index": -1
      }
     },
     "82fb1efe90704ffeb1559e523cbc5f89": {
      "model_module": "@jupyter-widgets/controls",
      "model_module_version": "2.0.0",
      "model_name": "HTMLModel",
      "state": {
       "layout": "IPY_MODEL_dab7bb41e94e482f8de3a31806d6cf5c",
       "style": "IPY_MODEL_5e64aff2db81464ebb6223533619c15a",
       "value": "-"
      }
     },
     "83090bf643b942388198761815ccd4a8": {
      "model_module": "@jupyter-widgets/controls",
      "model_module_version": "2.0.0",
      "model_name": "HTMLStyleModel",
      "state": {
       "description_width": "",
       "font_size": null,
       "text_color": null
      }
     },
     "8437af661ee64dde983e708c8832f58a": {
      "model_module": "@jupyter-widgets/base",
      "model_module_version": "2.0.0",
      "model_name": "LayoutModel",
      "state": {
       "width": "95px"
      }
     },
     "847dbe9d72c14227bad51a0fc004f64a": {
      "model_module": "@jupyter-widgets/controls",
      "model_module_version": "2.0.0",
      "model_name": "HTMLStyleModel",
      "state": {
       "description_width": "",
       "font_size": null,
       "text_color": null
      }
     },
     "851f7a10c2ec474cba28093973e9d2a6": {
      "model_module": "@jupyter-widgets/base",
      "model_module_version": "2.0.0",
      "model_name": "LayoutModel",
      "state": {
       "max_width": "700px",
       "min_width": "700px"
      }
     },
     "855a7d58a62449389221f55b3b8fd702": {
      "model_module": "@jupyter-widgets/controls",
      "model_module_version": "2.0.0",
      "model_name": "HBoxModel",
      "state": {
       "children": [
        "IPY_MODEL_db3ed152fe0f4f679e5ad7c0c7b0a672",
        "IPY_MODEL_88455c84099d4e9291abbcbc30817f2b",
        "IPY_MODEL_b955e1bde56e4c978021bc2e0eff5c30",
        "IPY_MODEL_36c80fb3f9f14b479614564025e3bad8",
        "IPY_MODEL_747abedb87a54c519c5396d95ec52025",
        "IPY_MODEL_7db6b1d4ac484234ae1a74a10d21bede"
       ],
       "layout": "IPY_MODEL_74fede57531043f6a0cacb663a6de402"
      }
     },
     "85869605e3c44573844c43ad81727eee": {
      "model_module": "@jupyter-widgets/controls",
      "model_module_version": "2.0.0",
      "model_name": "HBoxModel",
      "state": {
       "children": [
        "IPY_MODEL_ed0c1c7e56fb4b3aa5ea014f22fb41d2",
        "IPY_MODEL_595b974d7c694c86a185d9d0d532f2ce",
        "IPY_MODEL_753a7df814f7442a9783f29d21e40f36",
        "IPY_MODEL_6392d3f1fcb349fb82e6f0276929d2cb",
        "IPY_MODEL_fb5153d3d88c42528c2a8c5d41f0d889",
        "IPY_MODEL_7f754399dfa3465da9cadca4aad6fa9f"
       ],
       "layout": "IPY_MODEL_e507b0b21986406c8c9dcd7873ba164b"
      }
     },
     "86292775a6ce4b96b6f11860a5105c00": {
      "model_module": "@jupyter-widgets/controls",
      "model_module_version": "2.0.0",
      "model_name": "HTMLModel",
      "state": {
       "layout": "IPY_MODEL_9b894ebba7da43fda272f1ed8690a48f",
       "style": "IPY_MODEL_f4c7a78689484d909349e0d592d4dbb1",
       "value": "<h5>Queue</h5>"
      }
     },
     "863ee3f9fac44e479b6fb8d52ccde074": {
      "model_module": "@jupyter-widgets/controls",
      "model_module_version": "2.0.0",
      "model_name": "HBoxModel",
      "state": {
       "children": [
        "IPY_MODEL_643dbe8d47af4ecebd703ef4d5d1fd33",
        "IPY_MODEL_617f6138e9cb4a4586c951090bba77ae",
        "IPY_MODEL_387975473da842a281abd80cafde1498",
        "IPY_MODEL_c9e9d74c978346659254306bdad663b9",
        "IPY_MODEL_1d802d831765470d88ab9aed69063c86",
        "IPY_MODEL_f0ac67c113c343a4881115f5e12deb45"
       ],
       "layout": "IPY_MODEL_15737a979809422c9e20fb7680c0688a"
      }
     },
     "86a1f8bdbbdb43478c687e70ec34abac": {
      "model_module": "@jupyter-widgets/controls",
      "model_module_version": "2.0.0",
      "model_name": "HTMLStyleModel",
      "state": {
       "description_width": "",
       "font_size": null,
       "text_color": null
      }
     },
     "87691f465f6c4ff68f00a7f25320605f": {
      "model_module": "@jupyter-widgets/base",
      "model_module_version": "2.0.0",
      "model_name": "LayoutModel",
      "state": {}
     },
     "88455c84099d4e9291abbcbc30817f2b": {
      "model_module": "@jupyter-widgets/controls",
      "model_module_version": "2.0.0",
      "model_name": "HTMLModel",
      "state": {
       "layout": "IPY_MODEL_23ec5a7a7b39411a87201a8c9dd8cf82",
       "style": "IPY_MODEL_cf5a537bed6c4cf98345fbfe4adfb4f5",
       "value": "cmc5e99wqgx0008yk2kg"
      }
     },
     "8916f4346adf4380acdbc7fe71a7fcab": {
      "model_module": "@jupyter-widgets/controls",
      "model_module_version": "2.0.0",
      "model_name": "HTMLModel",
      "state": {
       "layout": "IPY_MODEL_a5e06bb5ffc343e7ba52c68c7249b844",
       "style": "IPY_MODEL_7e3030ddd8054f09af717e610ae6c4d1",
       "value": "-"
      }
     },
     "89562e5b2d53419788deb7fa85071d4b": {
      "model_module": "@jupyter-widgets/base",
      "model_module_version": "2.0.0",
      "model_name": "LayoutModel",
      "state": {}
     },
     "896c632e4ab44684b292e6e0cf12d4a5": {
      "model_module": "@jupyter-widgets/controls",
      "model_module_version": "2.0.0",
      "model_name": "HTMLModel",
      "state": {
       "layout": "IPY_MODEL_c031106809c843b69b86ab1b84f341b4",
       "style": "IPY_MODEL_74fa2a4832934ce6888848bda8dfc77e",
       "value": "ibm_nairobi"
      }
     },
     "8978135efbee4d1787ffb2404da7564b": {
      "model_module": "@jupyter-widgets/controls",
      "model_module_version": "2.0.0",
      "model_name": "HTMLModel",
      "state": {
       "layout": "IPY_MODEL_4d27801cc69244928ce47b9c84722d76",
       "style": "IPY_MODEL_86a1f8bdbbdb43478c687e70ec34abac",
       "value": "job has successfully run"
      }
     },
     "89c3a30235644ad5bf7f650f93ca670b": {
      "model_module": "@jupyter-widgets/controls",
      "model_module_version": "2.0.0",
      "model_name": "ButtonModel",
      "state": {
       "icon": "close",
       "layout": "IPY_MODEL_f016468af1884e12b6a4f5c042430b89",
       "style": "IPY_MODEL_33443c376b734046909eeef8aa3e4772",
       "tooltip": null
      }
     },
     "8c38154d821b49eb8f54d4906b03bd36": {
      "model_module": "@jupyter-widgets/controls",
      "model_module_version": "2.0.0",
      "model_name": "HTMLModel",
      "state": {
       "layout": "IPY_MODEL_cae1ace6d7214168bda091c2e8f3fb75",
       "style": "IPY_MODEL_18236f2b91c14118a32125424f4648a4",
       "value": "-"
      }
     },
     "8c6ec1ffb4174d6389c09f911137d019": {
      "model_module": "@jupyter-widgets/base",
      "model_module_version": "2.0.0",
      "model_name": "LayoutModel",
      "state": {
       "width": "145px"
      }
     },
     "8ce7f60a0eab47feab7efef1c1b43797": {
      "model_module": "@quantum/lab-widgets",
      "model_module_version": "4.0.44",
      "model_name": "CircuitComposerModel",
      "state": {
       "circuit": "\"OPENQASM 2.0;\\ninclude \\\"qelib1.inc\\\";\\nqreg q[1];\\ncreg c[1];\\nh q[0];\\ns q[0];\\n\"",
       "editable": true,
       "layout": "IPY_MODEL_fb4cadb23cb947db92551afa8392941e",
       "qiskit_code_cell_index": -1
      }
     },
     "8d051ddfaa7c458b9d17e3bf68d0ec21": {
      "model_module": "@jupyter-widgets/base",
      "model_module_version": "2.0.0",
      "model_name": "LayoutModel",
      "state": {}
     },
     "8d8a3c76402f4da393f6ae26e79eaccb": {
      "model_module": "@jupyter-widgets/controls",
      "model_module_version": "2.0.0",
      "model_name": "HTMLModel",
      "state": {
       "layout": "IPY_MODEL_8437af661ee64dde983e708c8832f58a",
       "style": "IPY_MODEL_c6700d3ceb2a4fd3a0ababc381c67218",
       "value": "<font style='color:#34BC6E'>DONE</font>"
      }
     },
     "8f0bcb34aaac4b92bb8bcd415fb1685e": {
      "model_module": "@jupyter-widgets/base",
      "model_module_version": "2.0.0",
      "model_name": "LayoutModel",
      "state": {}
     },
     "902f9d4fd65347ef95a4a3c3fc3976d2": {
      "model_module": "@jupyter-widgets/controls",
      "model_module_version": "2.0.0",
      "model_name": "HTMLStyleModel",
      "state": {
       "description_width": "",
       "font_size": null,
       "text_color": null
      }
     },
     "911f935058f644cf89e88f39659b63b5": {
      "model_module": "@quantum/lab-widgets",
      "model_module_version": "4.0.44",
      "model_name": "CircuitComposerModel",
      "state": {
       "circuit": "\"OPENQASM 2.0;\\ninclude \\\"qelib1.inc\\\";\\nqreg q[1];\\ncreg c[1];\\nh q[0];\\np(pi/2) q[0];\\nu(pi/2,pi/4,pi/8) q[0];\\n\"",
       "editable": true,
       "layout": "IPY_MODEL_9890302bf2464a3b9738519989bf303b",
       "qiskit_code_cell_index": -1
      }
     },
     "91f2eef4ee634d9aa1e6a073f68ba0fa": {
      "model_module": "@quantum/lab-widgets",
      "model_module_version": "4.0.44",
      "model_name": "CircuitComposerModel",
      "state": {
       "circuit": "\"OPENQASM 2.0;\\ninclude \\\"qelib1.inc\\\";\\nqreg q[1];\\ncreg c[1];\\nh q[0];\\nu(pi/2,pi/4,pi/8) q[0];\\nmeasure q[0] -> c[0];\\n\"",
       "editable": true,
       "layout": "IPY_MODEL_2bac2d5617f6454b9ae7f7cb4b7de83a",
       "qiskit_code_cell_index": -1
      }
     },
     "928a61f65b2f4dfc910f007a2059d1a6": {
      "model_module": "@jupyter-widgets/base",
      "model_module_version": "2.0.0",
      "model_name": "LayoutModel",
      "state": {
       "width": "70px"
      }
     },
     "93282aa614084ab69ab81cc280a1d80b": {
      "model_module": "@jupyter-widgets/controls",
      "model_module_version": "2.0.0",
      "model_name": "ButtonModel",
      "state": {
       "icon": "close",
       "layout": "IPY_MODEL_1d2d3160d591450ea862efa5a0cb8f6b",
       "style": "IPY_MODEL_535cc9a721bf4bc286f3421420e54cd0",
       "tooltip": null
      }
     },
     "938f7698fcd748c6a3847b93ce4daca3": {
      "model_module": "@jupyter-widgets/controls",
      "model_module_version": "2.0.0",
      "model_name": "HTMLStyleModel",
      "state": {
       "description_width": "",
       "font_size": null,
       "text_color": null
      }
     },
     "943d6fed210c456494bba347fb808166": {
      "model_module": "@jupyter-widgets/controls",
      "model_module_version": "2.0.0",
      "model_name": "HTMLModel",
      "state": {
       "layout": "IPY_MODEL_6f3ab3ac979044358b595ab50f30f904",
       "style": "IPY_MODEL_b90d0931ad044c9bb3fd396cafbda08e",
       "value": "ibm_nairobi"
      }
     },
     "957751cec5d6499f8c818b0b54304c37": {
      "model_module": "@jupyter-widgets/controls",
      "model_module_version": "2.0.0",
      "model_name": "HBoxModel",
      "state": {
       "children": [
        "IPY_MODEL_977a792720ec48f481d33896fcec2b2f",
        "IPY_MODEL_002bc7a89ce24d4f82ba9e5bab7981b7",
        "IPY_MODEL_9b050f46e3e244de8f985f8023508420",
        "IPY_MODEL_d325037c63914d30935411f4c9a0aee9",
        "IPY_MODEL_e7c9e3d92c9440b3b454b5494b02bc21",
        "IPY_MODEL_989bb93f2bc64e3aa1c3375b0e81cb83"
       ],
       "layout": "IPY_MODEL_226f85bc69eb41919114227d8d2839d5"
      }
     },
     "95cafd91c40c443bb4c78a09ae1ebaa9": {
      "model_module": "@jupyter-widgets/base",
      "model_module_version": "2.0.0",
      "model_name": "LayoutModel",
      "state": {}
     },
     "95f69bf31b074100ae2efd0ab4f5e634": {
      "model_module": "@quantum/lab-widgets",
      "model_module_version": "4.0.44",
      "model_name": "CircuitComposerModel",
      "state": {
       "circuit": "\"OPENQASM 2.0;\\ninclude \\\"qelib1.inc\\\";\\nqreg q[1];\\ncreg c[1];\\nh q[0];\\nrx(pi/2) q[0];\\n\"",
       "editable": true,
       "layout": "IPY_MODEL_a7f1b98427284db5860723063706dd65",
       "qiskit_code_cell_index": -1
      }
     },
     "9638ce1096a84c6ab9d0c8ef3f984216": {
      "model_module": "@jupyter-widgets/controls",
      "model_module_version": "2.0.0",
      "model_name": "HBoxModel",
      "state": {
       "children": [
        "IPY_MODEL_071ffb5c91514dc7b74d4a8201832ca0",
        "IPY_MODEL_705f59e68936413a8c01a2ffc3acce06",
        "IPY_MODEL_d61d2181e01048bb9fe5f7d7250a0265",
        "IPY_MODEL_688cb73c024540f2bbd4add9bb97ca70",
        "IPY_MODEL_fc8bef61ea5549798fd9778dc6ab931b",
        "IPY_MODEL_21c034c64a3045c0bf900dddf61347b8"
       ],
       "layout": "IPY_MODEL_5a719150db3e4f1993714acf85b583a6"
      }
     },
     "96443f5a188447d58b67b5252546f316": {
      "model_module": "@jupyter-widgets/controls",
      "model_module_version": "2.0.0",
      "model_name": "HTMLStyleModel",
      "state": {
       "description_width": "",
       "font_size": null,
       "text_color": null
      }
     },
     "966dee0a973d4cc7bbf0af4c10b1c64f": {
      "model_module": "@jupyter-widgets/base",
      "model_module_version": "2.0.0",
      "model_name": "LayoutModel",
      "state": {
       "margin": "0px 5px 0px 0px",
       "width": "32px"
      }
     },
     "977995fefb9a40338a430b124579519e": {
      "model_module": "@jupyter-widgets/base",
      "model_module_version": "2.0.0",
      "model_name": "LayoutModel",
      "state": {}
     },
     "977a792720ec48f481d33896fcec2b2f": {
      "model_module": "@jupyter-widgets/controls",
      "model_module_version": "2.0.0",
      "model_name": "ButtonModel",
      "state": {
       "icon": "close",
       "layout": "IPY_MODEL_2e1807b59ad548ebb61fd737d9fc6057",
       "style": "IPY_MODEL_05e8e1f6d9f94860becd0ba027d92991",
       "tooltip": null
      }
     },
     "9890302bf2464a3b9738519989bf303b": {
      "model_module": "@jupyter-widgets/base",
      "model_module_version": "2.0.0",
      "model_name": "LayoutModel",
      "state": {}
     },
     "989bb93f2bc64e3aa1c3375b0e81cb83": {
      "model_module": "@jupyter-widgets/controls",
      "model_module_version": "2.0.0",
      "model_name": "HTMLModel",
      "state": {
       "layout": "IPY_MODEL_720556aa88ef4f4abd38e88ac5f63fcc",
       "style": "IPY_MODEL_45c4e55de3944078a606927733cc05eb",
       "value": "job has successfully run"
      }
     },
     "99cbb22e561d489bb3cad0563613ada6": {
      "model_module": "@jupyter-widgets/controls",
      "model_module_version": "2.0.0",
      "model_name": "HTMLModel",
      "state": {
       "layout": "IPY_MODEL_4beec8401f8c456c8b72ce1505dd6526",
       "style": "IPY_MODEL_445cd96932b64957a95abe0ae3fb133b",
       "value": "cmc3pasnpt50008r2e40"
      }
     },
     "9b050f46e3e244de8f985f8023508420": {
      "model_module": "@jupyter-widgets/controls",
      "model_module_version": "2.0.0",
      "model_name": "HTMLModel",
      "state": {
       "layout": "IPY_MODEL_1f05d24536084861a53cbc2b7bb07110",
       "style": "IPY_MODEL_2f1da303d3a34cf2b99fbf9b6cc9f462",
       "value": "ibm_brisbane"
      }
     },
     "9b373996ebdf421b8aaa7ad4cfde59e0": {
      "model_module": "@jupyter-widgets/controls",
      "model_module_version": "2.0.0",
      "model_name": "HTMLStyleModel",
      "state": {
       "description_width": "",
       "font_size": null,
       "text_color": null
      }
     },
     "9b894ebba7da43fda272f1ed8690a48f": {
      "model_module": "@jupyter-widgets/base",
      "model_module_version": "2.0.0",
      "model_name": "LayoutModel",
      "state": {
       "width": "70px"
      }
     },
     "9c461372a2e5455e89f82cd45c6f473c": {
      "model_module": "@jupyter-widgets/controls",
      "model_module_version": "2.0.0",
      "model_name": "HTMLModel",
      "state": {
       "layout": "IPY_MODEL_5426e624d19a45db9ad935e2498519bd",
       "style": "IPY_MODEL_b590096b29a248c3a06031dc39f580d5",
       "value": "job has successfully run"
      }
     },
     "9dc4dcb906e24b10a5a4c5852ac223ed": {
      "model_module": "@jupyter-widgets/base",
      "model_module_version": "2.0.0",
      "model_name": "LayoutModel",
      "state": {
       "width": "95px"
      }
     },
     "9e9b6dce0aa34a83a6f9027a2af6bde4": {
      "model_module": "@jupyter-widgets/controls",
      "model_module_version": "2.0.0",
      "model_name": "HTMLStyleModel",
      "state": {
       "description_width": "",
       "font_size": null,
       "text_color": null
      }
     },
     "9ef4396349b240028122bec9175c217e": {
      "model_module": "@jupyter-widgets/controls",
      "model_module_version": "2.0.0",
      "model_name": "HTMLStyleModel",
      "state": {
       "description_width": "",
       "font_size": null,
       "text_color": null
      }
     },
     "9f4c1baa8586480ab15b86776abd11de": {
      "model_module": "@jupyter-widgets/controls",
      "model_module_version": "2.0.0",
      "model_name": "HTMLModel",
      "state": {
       "layout": "IPY_MODEL_372a1c25f2d6489f847b37be1307a389",
       "style": "IPY_MODEL_6c8620e7b7b149a49f24c59d17fd65c7",
       "value": "ibm_nairobi"
      }
     },
     "a07740fa8e954484a2856de22b67661b": {
      "model_module": "@jupyter-widgets/controls",
      "model_module_version": "2.0.0",
      "model_name": "HTMLStyleModel",
      "state": {
       "description_width": "",
       "font_size": null,
       "text_color": null
      }
     },
     "a1201fe78a8c4986abaa3ad03a7a4415": {
      "model_module": "@jupyter-widgets/controls",
      "model_module_version": "2.0.0",
      "model_name": "ButtonStyleModel",
      "state": {
       "button_color": "white",
       "font_family": null,
       "font_size": null,
       "font_style": null,
       "font_variant": null,
       "font_weight": null,
       "text_color": null,
       "text_decoration": null
      }
     },
     "a19305fc0aed40e8a12680837a4a09c3": {
      "model_module": "@jupyter-widgets/base",
      "model_module_version": "2.0.0",
      "model_name": "LayoutModel",
      "state": {}
     },
     "a1b17d75c50d4e9897c36074e3ff421e": {
      "model_module": "@jupyter-widgets/controls",
      "model_module_version": "2.0.0",
      "model_name": "ButtonModel",
      "state": {
       "icon": "close",
       "layout": "IPY_MODEL_0ec99e44d5614ff2a9e0931006636b5f",
       "style": "IPY_MODEL_b47c285592714a688e21c116caf5b803",
       "tooltip": null
      }
     },
     "a2344f754f244dad8a71e24d3e4b9732": {
      "model_module": "@jupyter-widgets/controls",
      "model_module_version": "2.0.0",
      "model_name": "HTMLStyleModel",
      "state": {
       "description_width": "",
       "font_size": null,
       "text_color": null
      }
     },
     "a2bac98441664afda6dd35b44bcf1984": {
      "model_module": "@jupyter-widgets/base",
      "model_module_version": "2.0.0",
      "model_name": "LayoutModel",
      "state": {}
     },
     "a2cb1464b6f74d66af97f1e8b016fcde": {
      "model_module": "@jupyter-widgets/base",
      "model_module_version": "2.0.0",
      "model_name": "LayoutModel",
      "state": {}
     },
     "a2fd06ec723841b09c354ea2c087f72c": {
      "model_module": "@jupyter-widgets/controls",
      "model_module_version": "2.0.0",
      "model_name": "HTMLModel",
      "state": {
       "layout": "IPY_MODEL_f832dcc2afb14d2186476c9e79cf9715",
       "style": "IPY_MODEL_a07740fa8e954484a2856de22b67661b",
       "value": "ibm_nairobi"
      }
     },
     "a30976e515ea4aedb611731a14651dcc": {
      "model_module": "@quantum/lab-widgets",
      "model_module_version": "4.0.44",
      "model_name": "CircuitComposerModel",
      "state": {
       "circuit": "\"OPENQASM 2.0;\\ninclude \\\"qelib1.inc\\\";\\nqreg q[1];\\ncreg c[1];\\nh q[0];\\nt q[0];\\n\"",
       "editable": true,
       "layout": "IPY_MODEL_2b814188b4f64813912db7d11063212a",
       "qiskit_code_cell_index": -1
      }
     },
     "a3dc39a73d224b8d85cfcd16a8e819ac": {
      "model_module": "@jupyter-widgets/base",
      "model_module_version": "2.0.0",
      "model_name": "LayoutModel",
      "state": {}
     },
     "a5e06bb5ffc343e7ba52c68c7249b844": {
      "model_module": "@jupyter-widgets/base",
      "model_module_version": "2.0.0",
      "model_name": "LayoutModel",
      "state": {
       "width": "70px"
      }
     },
     "a5f59b2bd4614c02822acb51f8ee851d": {
      "model_module": "@jupyter-widgets/controls",
      "model_module_version": "2.0.0",
      "model_name": "HTMLModel",
      "state": {
       "layout": "IPY_MODEL_b163075d9b834e08b10ab070356ccb61",
       "style": "IPY_MODEL_3ec1efac673d4231b5863fc89a24a946",
       "value": "cmc4jqtq6frg008195r0"
      }
     },
     "a63a757448f84ab1b01b06f5f2f0119f": {
      "model_module": "@jupyter-widgets/base",
      "model_module_version": "2.0.0",
      "model_name": "LayoutModel",
      "state": {
       "width": "190px"
      }
     },
     "a6629c68093d4ce79404d290e5d8d311": {
      "model_module": "@jupyter-widgets/base",
      "model_module_version": "2.0.0",
      "model_name": "LayoutModel",
      "state": {}
     },
     "a66afc5809fc44f696af8cc843091df7": {
      "model_module": "@jupyter-widgets/base",
      "model_module_version": "2.0.0",
      "model_name": "LayoutModel",
      "state": {
       "width": "190px"
      }
     },
     "a6a5a89a50d94400ab3fec6a331e2f9c": {
      "model_module": "@jupyter-widgets/controls",
      "model_module_version": "2.0.0",
      "model_name": "HTMLStyleModel",
      "state": {
       "description_width": "",
       "font_size": null,
       "text_color": null
      }
     },
     "a6f168840eb14bb8a06b9edf6ba087fb": {
      "model_module": "@jupyter-widgets/controls",
      "model_module_version": "2.0.0",
      "model_name": "HTMLStyleModel",
      "state": {
       "description_width": "",
       "font_size": null,
       "text_color": null
      }
     },
     "a7401ac2560247a3b18c2f62ad16a843": {
      "model_module": "@jupyter-widgets/controls",
      "model_module_version": "2.0.0",
      "model_name": "HBoxModel",
      "state": {
       "children": [
        "IPY_MODEL_a9bbfcc49e664344985f50cb4aa1509e",
        "IPY_MODEL_1565b886f5574625833e4853b805ecd4",
        "IPY_MODEL_a2fd06ec723841b09c354ea2c087f72c",
        "IPY_MODEL_1211a0cd45f649c0b2ca6baf10ae44c1",
        "IPY_MODEL_0b836be29ff440f79b12e494e62c035f",
        "IPY_MODEL_e7762ba14c184208af0ff5071c571c7b"
       ],
       "layout": "IPY_MODEL_a8c59a17c790408cb71b9d4b9a4659d4"
      }
     },
     "a77c37e63fa14386a05b1ce06fed6644": {
      "model_module": "@quantum/lab-widgets",
      "model_module_version": "4.0.44",
      "model_name": "CircuitComposerModel",
      "state": {
       "circuit": "\"OPENQASM 2.0;\\ninclude \\\"qelib1.inc\\\";\\nqreg q[1];\\ncreg c[1];\\nh q[0];\\ny q[0];\\nrx(pi/2) q[0];\\n\"",
       "editable": true,
       "layout": "IPY_MODEL_bba2442694f44dea96f585d9c821bf25",
       "qiskit_code_cell_index": -1
      }
     },
     "a7a589f097084dc99e0fddc791b687fe": {
      "model_module": "@jupyter-widgets/controls",
      "model_module_version": "2.0.0",
      "model_name": "HTMLStyleModel",
      "state": {
       "description_width": "",
       "font_size": null,
       "text_color": null
      }
     },
     "a7ac6321f69440c3a2c142c28016ed86": {
      "model_module": "@jupyter-widgets/controls",
      "model_module_version": "2.0.0",
      "model_name": "HTMLModel",
      "state": {
       "layout": "IPY_MODEL_b5225b01e48c42778b52c3bb47380f46",
       "style": "IPY_MODEL_78dfc6f1e79340f2b9358333b02330db",
       "value": "-"
      }
     },
     "a7ad6daeba5b449ca2e394fe982673e9": {
      "model_module": "@jupyter-widgets/controls",
      "model_module_version": "2.0.0",
      "model_name": "HTMLStyleModel",
      "state": {
       "description_width": "",
       "font_size": null,
       "text_color": null
      }
     },
     "a7f1b98427284db5860723063706dd65": {
      "model_module": "@jupyter-widgets/base",
      "model_module_version": "2.0.0",
      "model_name": "LayoutModel",
      "state": {}
     },
     "a8c59a17c790408cb71b9d4b9a4659d4": {
      "model_module": "@jupyter-widgets/base",
      "model_module_version": "2.0.0",
      "model_name": "LayoutModel",
      "state": {
       "max_width": "700px",
       "min_width": "700px"
      }
     },
     "a9bbfcc49e664344985f50cb4aa1509e": {
      "model_module": "@jupyter-widgets/controls",
      "model_module_version": "2.0.0",
      "model_name": "ButtonModel",
      "state": {
       "icon": "close",
       "layout": "IPY_MODEL_cc1dba45ed0547e289240f9611617f32",
       "style": "IPY_MODEL_7937f8aa8f53475d9fc55cb9fc83712c",
       "tooltip": null
      }
     },
     "aa5eac1bcf9b49e0b33970d5ff60dd93": {
      "model_module": "@jupyter-widgets/base",
      "model_module_version": "2.0.0",
      "model_name": "LayoutModel",
      "state": {
       "width": "95px"
      }
     },
     "aac8f6a00f5c41999736df96e1b1acb8": {
      "model_module": "@jupyter-widgets/base",
      "model_module_version": "2.0.0",
      "model_name": "LayoutModel",
      "state": {
       "margin": "0px 5px 0px 0px",
       "width": "32px"
      }
     },
     "aea9126aa12a493da0159b6bc3dfe148": {
      "model_module": "@jupyter-widgets/base",
      "model_module_version": "2.0.0",
      "model_name": "LayoutModel",
      "state": {
       "max_width": "700px",
       "min_width": "700px"
      }
     },
     "aef9dfaac73e4daf9881714f07754d08": {
      "model_module": "@jupyter-widgets/base",
      "model_module_version": "2.0.0",
      "model_name": "LayoutModel",
      "state": {}
     },
     "af263deaf80b46a1a260a7c0c2d4d39b": {
      "model_module": "@jupyter-widgets/base",
      "model_module_version": "2.0.0",
      "model_name": "LayoutModel",
      "state": {
       "max_width": "700px",
       "min_width": "700px"
      }
     },
     "b0556dcd663a47caa2383ea463ad3966": {
      "model_module": "@jupyter-widgets/controls",
      "model_module_version": "2.0.0",
      "model_name": "HTMLStyleModel",
      "state": {
       "description_width": "",
       "font_size": null,
       "text_color": null
      }
     },
     "b1512738be294ad9af94442c4f39097d": {
      "model_module": "@jupyter-widgets/controls",
      "model_module_version": "2.0.0",
      "model_name": "HTMLModel",
      "state": {
       "layout": "IPY_MODEL_225c3d6bc4924cbb86f8eeb321e2e098",
       "style": "IPY_MODEL_390e044f32814cc4af8b69b7c9c3843c",
       "value": "ibm_brisbane"
      }
     },
     "b160038ad172451cae46d546c435a4e4": {
      "model_module": "@jupyter-widgets/controls",
      "model_module_version": "2.0.0",
      "model_name": "ButtonModel",
      "state": {
       "icon": "close",
       "layout": "IPY_MODEL_ee2a3bdebcd0429b9fece612494d9d5e",
       "style": "IPY_MODEL_a1201fe78a8c4986abaa3ad03a7a4415",
       "tooltip": null
      }
     },
     "b163075d9b834e08b10ab070356ccb61": {
      "model_module": "@jupyter-widgets/base",
      "model_module_version": "2.0.0",
      "model_name": "LayoutModel",
      "state": {
       "width": "190px"
      }
     },
     "b285e168a7654e658d1a5585b1d7fe07": {
      "model_module": "@jupyter-widgets/controls",
      "model_module_version": "2.0.0",
      "model_name": "ButtonStyleModel",
      "state": {
       "button_color": "white",
       "font_family": null,
       "font_size": null,
       "font_style": null,
       "font_variant": null,
       "font_weight": null,
       "text_color": null,
       "text_decoration": null
      }
     },
     "b2cba7944aba4b5bae18ce08f0703445": {
      "model_module": "@jupyter-widgets/controls",
      "model_module_version": "2.0.0",
      "model_name": "HTMLModel",
      "state": {
       "layout": "IPY_MODEL_a63a757448f84ab1b01b06f5f2f0119f",
       "style": "IPY_MODEL_938f7698fcd748c6a3847b93ce4daca3",
       "value": "cmc5qfnfjvfg008becyg"
      }
     },
     "b3d160377fe1409b82dc2df2ccc7e1ce": {
      "model_module": "@jupyter-widgets/controls",
      "model_module_version": "2.0.0",
      "model_name": "HTMLStyleModel",
      "state": {
       "description_width": "",
       "font_size": null,
       "text_color": null
      }
     },
     "b4491ab062ab428ba12ae31c3a2783e0": {
      "model_module": "@jupyter-widgets/controls",
      "model_module_version": "2.0.0",
      "model_name": "HBoxModel",
      "state": {
       "children": [
        "IPY_MODEL_64839682d3cd48669d1ff4ebd96839e0",
        "IPY_MODEL_378a6ec52224465090b0d1c951dc0066",
        "IPY_MODEL_9f4c1baa8586480ab15b86776abd11de",
        "IPY_MODEL_2586473e30264567a24b06ce0c55f1d9",
        "IPY_MODEL_e3c3cc0db069415cbd7681c14b3c9998",
        "IPY_MODEL_8978135efbee4d1787ffb2404da7564b"
       ],
       "layout": "IPY_MODEL_f5a91b2c5bd648979953a89ef0deaf3d"
      }
     },
     "b47c285592714a688e21c116caf5b803": {
      "model_module": "@jupyter-widgets/controls",
      "model_module_version": "2.0.0",
      "model_name": "ButtonStyleModel",
      "state": {
       "button_color": "white",
       "font_family": null,
       "font_size": null,
       "font_style": null,
       "font_variant": null,
       "font_weight": null,
       "text_color": null,
       "text_decoration": null
      }
     },
     "b49d71e5277e4a58a075a48b2a415952": {
      "model_module": "@jupyter-widgets/base",
      "model_module_version": "2.0.0",
      "model_name": "LayoutModel",
      "state": {
       "width": "70px"
      }
     },
     "b5225b01e48c42778b52c3bb47380f46": {
      "model_module": "@jupyter-widgets/base",
      "model_module_version": "2.0.0",
      "model_name": "LayoutModel",
      "state": {
       "width": "70px"
      }
     },
     "b590096b29a248c3a06031dc39f580d5": {
      "model_module": "@jupyter-widgets/controls",
      "model_module_version": "2.0.0",
      "model_name": "HTMLStyleModel",
      "state": {
       "description_width": "",
       "font_size": null,
       "text_color": null
      }
     },
     "b5fcbfcc342446d19c4206638560d026": {
      "model_module": "@jupyter-widgets/base",
      "model_module_version": "2.0.0",
      "model_name": "LayoutModel",
      "state": {
       "width": "190px"
      }
     },
     "b685e8d7dcef4e5c94f14f8e4c65dc20": {
      "model_module": "@jupyter-widgets/base",
      "model_module_version": "2.0.0",
      "model_name": "LayoutModel",
      "state": {
       "width": "95px"
      }
     },
     "b6d226c8a97a418b8cefee51694b9132": {
      "model_module": "@jupyter-widgets/controls",
      "model_module_version": "2.0.0",
      "model_name": "ButtonStyleModel",
      "state": {
       "button_color": "white",
       "font_family": null,
       "font_size": null,
       "font_style": null,
       "font_variant": null,
       "font_weight": null,
       "text_color": null,
       "text_decoration": null
      }
     },
     "b6f67b294b0d4381bce075fb182ed730": {
      "model_module": "@jupyter-widgets/controls",
      "model_module_version": "2.0.0",
      "model_name": "HTMLStyleModel",
      "state": {
       "description_width": "",
       "font_size": null,
       "text_color": null
      }
     },
     "b8999424de1e4747bf598c0bcdda493a": {
      "model_module": "@jupyter-widgets/controls",
      "model_module_version": "2.0.0",
      "model_name": "HTMLModel",
      "state": {
       "layout": "IPY_MODEL_fcedd6ab978e4f49ad248aef380f45d2",
       "style": "IPY_MODEL_61d3216ba6544c23a12f5b69f59306a8",
       "value": "ibm_nairobi"
      }
     },
     "b90d0931ad044c9bb3fd396cafbda08e": {
      "model_module": "@jupyter-widgets/controls",
      "model_module_version": "2.0.0",
      "model_name": "HTMLStyleModel",
      "state": {
       "description_width": "",
       "font_size": null,
       "text_color": null
      }
     },
     "b92550cc4cad4d04b1379f29405d8d1c": {
      "model_module": "@jupyter-widgets/base",
      "model_module_version": "2.0.0",
      "model_name": "LayoutModel",
      "state": {
       "width": "95px"
      }
     },
     "b955e1bde56e4c978021bc2e0eff5c30": {
      "model_module": "@jupyter-widgets/controls",
      "model_module_version": "2.0.0",
      "model_name": "HTMLModel",
      "state": {
       "layout": "IPY_MODEL_44078fc6352f4082a108f1e77c660144",
       "style": "IPY_MODEL_ebabd81ff19849b49e6b8d4c9f89d4b1",
       "value": "ibm_nairobi"
      }
     },
     "ba2d33bfe2e64f6aa022ec83c59f8eb0": {
      "model_module": "@jupyter-widgets/controls",
      "model_module_version": "2.0.0",
      "model_name": "HTMLModel",
      "state": {
       "layout": "IPY_MODEL_c5f9f5454561422fa40f82aa1a5e42b4",
       "style": "IPY_MODEL_505f738067ac4a16ab6622ac1864709d",
       "value": "job has successfully run"
      }
     },
     "ba4034e56f874fe6bb7286676d61485f": {
      "model_module": "@jupyter-widgets/controls",
      "model_module_version": "2.0.0",
      "model_name": "ButtonModel",
      "state": {
       "icon": "close",
       "layout": "IPY_MODEL_2e18677fb9b948aa82777903ab306d69",
       "style": "IPY_MODEL_e0f579d120a14d2b9ab2713f6903646e",
       "tooltip": null
      }
     },
     "bb3b95f08dc643c5814917985dc2a1f7": {
      "model_module": "@jupyter-widgets/controls",
      "model_module_version": "2.0.0",
      "model_name": "HTMLModel",
      "state": {
       "layout": "IPY_MODEL_733b6458efcf4692a7612355daa2381b",
       "style": "IPY_MODEL_2521a5f3d3104e1295567552de25d3be",
       "value": "<font style='color:#34BC6E'>DONE</font>"
      }
     },
     "bb6171358dad44af81e5929fdb2767f0": {
      "model_module": "@jupyter-widgets/controls",
      "model_module_version": "2.0.0",
      "model_name": "HTMLModel",
      "state": {
       "layout": "IPY_MODEL_2aae0f8a298d4e5cbf4b65e80ea3d88d",
       "style": "IPY_MODEL_038b6323b0f142c0bd66c7092fed1530",
       "value": "job has successfully run"
      }
     },
     "bb7762d6de0f493690a2d96b61f07786": {
      "model_module": "@jupyter-widgets/controls",
      "model_module_version": "2.0.0",
      "model_name": "ButtonModel",
      "state": {
       "icon": "close",
       "layout": "IPY_MODEL_2b7ecf8379d0414abf05e87a9d5c44ff",
       "style": "IPY_MODEL_b6d226c8a97a418b8cefee51694b9132",
       "tooltip": null
      }
     },
     "bba2442694f44dea96f585d9c821bf25": {
      "model_module": "@jupyter-widgets/base",
      "model_module_version": "2.0.0",
      "model_name": "LayoutModel",
      "state": {}
     },
     "bba576f405a4433da9de59f5b1d154f6": {
      "model_module": "@quantum/lab-widgets",
      "model_module_version": "4.0.44",
      "model_name": "CircuitComposerModel",
      "state": {
       "circuit": "\"OPENQASM 2.0;\\ninclude \\\"qelib1.inc\\\";\\nqreg q[1];\\ncreg c[1];\\nh q[0];\\nrz(pi/2) q[0];\\n\"",
       "editable": true,
       "layout": "IPY_MODEL_8f0bcb34aaac4b92bb8bcd415fb1685e",
       "qiskit_code_cell_index": -1
      }
     },
     "bbb33cc8eeed496aa065fad235014f0e": {
      "model_module": "@jupyter-widgets/controls",
      "model_module_version": "2.0.0",
      "model_name": "HTMLStyleModel",
      "state": {
       "description_width": "",
       "font_size": null,
       "text_color": null
      }
     },
     "bcbe804fa46c4e6ea8dd4d2a0efb4251": {
      "model_module": "@jupyter-widgets/controls",
      "model_module_version": "2.0.0",
      "model_name": "HTMLStyleModel",
      "state": {
       "description_width": "",
       "font_size": null,
       "text_color": null
      }
     },
     "bd075fffd04645e9bb2208129cbfb2ab": {
      "model_module": "@jupyter-widgets/base",
      "model_module_version": "2.0.0",
      "model_name": "LayoutModel",
      "state": {}
     },
     "bd552783b9dc43feaeb35665bdc29963": {
      "model_module": "@jupyter-widgets/base",
      "model_module_version": "2.0.0",
      "model_name": "LayoutModel",
      "state": {
       "width": "95px"
      }
     },
     "bd5a8c18e65844718cb873afa5b1e984": {
      "model_module": "@jupyter-widgets/controls",
      "model_module_version": "2.0.0",
      "model_name": "HTMLStyleModel",
      "state": {
       "description_width": "",
       "font_size": null,
       "text_color": null
      }
     },
     "be270f74a662419898b50e6975b2ffa2": {
      "model_module": "@jupyter-widgets/base",
      "model_module_version": "2.0.0",
      "model_name": "LayoutModel",
      "state": {
       "width": "95px"
      }
     },
     "be7b2a50bb4a47ee9ae8bc63b6aaf41f": {
      "model_module": "@jupyter-widgets/base",
      "model_module_version": "2.0.0",
      "model_name": "LayoutModel",
      "state": {
       "width": "70px"
      }
     },
     "bead9bd582314bbaa6256b75c905e43d": {
      "model_module": "@jupyter-widgets/controls",
      "model_module_version": "2.0.0",
      "model_name": "HBoxModel",
      "state": {
       "children": [
        "IPY_MODEL_bb7762d6de0f493690a2d96b61f07786",
        "IPY_MODEL_b2cba7944aba4b5bae18ce08f0703445",
        "IPY_MODEL_896c632e4ab44684b292e6e0cf12d4a5",
        "IPY_MODEL_7d94a7e700164f8380e297fcf027d247",
        "IPY_MODEL_a7ac6321f69440c3a2c142c28016ed86",
        "IPY_MODEL_f8404c6501c04aa6adb466e12dd157ed"
       ],
       "layout": "IPY_MODEL_76892787acbf49ce9f3cb44da1159f3d"
      }
     },
     "bf2d2e77b7b74b529fe10d1581a7fe6a": {
      "model_module": "@jupyter-widgets/controls",
      "model_module_version": "2.0.0",
      "model_name": "HTMLStyleModel",
      "state": {
       "description_width": "",
       "font_size": null,
       "text_color": null
      }
     },
     "bf49b2811eef40c78488b6d84955a3a2": {
      "model_module": "@jupyter-widgets/controls",
      "model_module_version": "2.0.0",
      "model_name": "HTMLStyleModel",
      "state": {
       "description_width": "",
       "font_size": null,
       "text_color": null
      }
     },
     "c02272c889674a3fbf67bf5a4e4c089b": {
      "model_module": "@jupyter-widgets/base",
      "model_module_version": "2.0.0",
      "model_name": "LayoutModel",
      "state": {
       "width": "190px"
      }
     },
     "c031106809c843b69b86ab1b84f341b4": {
      "model_module": "@jupyter-widgets/base",
      "model_module_version": "2.0.0",
      "model_name": "LayoutModel",
      "state": {
       "width": "145px"
      }
     },
     "c0639752f2384b7f86d375eddae5490d": {
      "model_module": "@jupyter-widgets/controls",
      "model_module_version": "2.0.0",
      "model_name": "HTMLStyleModel",
      "state": {
       "description_width": "",
       "font_size": null,
       "text_color": null
      }
     },
     "c3999594aa884f488779c7ba62a5e679": {
      "model_module": "@jupyter-widgets/base",
      "model_module_version": "2.0.0",
      "model_name": "LayoutModel",
      "state": {
       "width": "95px"
      }
     },
     "c3b2e86a766a4dc5b9217b4b8b72c0f8": {
      "model_module": "@quantum/lab-widgets",
      "model_module_version": "4.0.44",
      "model_name": "CircuitComposerModel",
      "state": {
       "circuit": "\"OPENQASM 2.0;\\ninclude \\\"qelib1.inc\\\";\\nqreg q[1];\\ncreg c[1];\\nh q[0];\\nu(pi/4,-pi/3,pi/8) q[0];\\n\"",
       "editable": true,
       "layout": "IPY_MODEL_a2cb1464b6f74d66af97f1e8b016fcde",
       "qiskit_code_cell_index": -1
      }
     },
     "c3f69abd6f154ef0b3fee8befa127532": {
      "model_module": "@jupyter-widgets/base",
      "model_module_version": "2.0.0",
      "model_name": "LayoutModel",
      "state": {
       "width": "145px"
      }
     },
     "c4c5bb6dbf6a4453a5a912fe89f5ce64": {
      "model_module": "@jupyter-widgets/base",
      "model_module_version": "2.0.0",
      "model_name": "LayoutModel",
      "state": {
       "width": "95px"
      }
     },
     "c4cbefbc62044856918572a0a156ff84": {
      "model_module": "@jupyter-widgets/controls",
      "model_module_version": "2.0.0",
      "model_name": "HTMLStyleModel",
      "state": {
       "description_width": "",
       "font_size": null,
       "text_color": null
      }
     },
     "c50d2357692a4cc79f2cd583d19697dd": {
      "model_module": "@jupyter-widgets/controls",
      "model_module_version": "2.0.0",
      "model_name": "HTMLModel",
      "state": {
       "layout": "IPY_MODEL_aa5eac1bcf9b49e0b33970d5ff60dd93",
       "style": "IPY_MODEL_96443f5a188447d58b67b5252546f316",
       "value": "<font style='color:#34BC6E'>DONE</font>"
      }
     },
     "c5bb887bf9f24c318dcfa1026ef572a5": {
      "model_module": "@jupyter-widgets/base",
      "model_module_version": "2.0.0",
      "model_name": "LayoutModel",
      "state": {
       "grid_area": "right",
       "padding": "0px 0px 0px 0px",
       "width": "70px"
      }
     },
     "c5f9f5454561422fa40f82aa1a5e42b4": {
      "model_module": "@jupyter-widgets/base",
      "model_module_version": "2.0.0",
      "model_name": "LayoutModel",
      "state": {}
     },
     "c62e2ab33fed4a0495ba836f22b24d6c": {
      "model_module": "@jupyter-widgets/controls",
      "model_module_version": "2.0.0",
      "model_name": "HTMLStyleModel",
      "state": {
       "description_width": "",
       "font_size": null,
       "text_color": null
      }
     },
     "c639ed11f1a44e8798f5f3fad553bce1": {
      "model_module": "@jupyter-widgets/controls",
      "model_module_version": "2.0.0",
      "model_name": "HTMLStyleModel",
      "state": {
       "description_width": "",
       "font_size": null,
       "text_color": null
      }
     },
     "c6700d3ceb2a4fd3a0ababc381c67218": {
      "model_module": "@jupyter-widgets/controls",
      "model_module_version": "2.0.0",
      "model_name": "HTMLStyleModel",
      "state": {
       "description_width": "",
       "font_size": null,
       "text_color": null
      }
     },
     "c6fcdc8c90634c7abe38219e4c60fa29": {
      "model_module": "@jupyter-widgets/controls",
      "model_module_version": "2.0.0",
      "model_name": "HTMLModel",
      "state": {
       "layout": "IPY_MODEL_ce5bd3503a1e4573b9526be0dca43bb6",
       "style": "IPY_MODEL_9b373996ebdf421b8aaa7ad4cfde59e0",
       "value": "<h5>Job ID</h5>"
      }
     },
     "c86dec08eba64a73968a9375325515ae": {
      "model_module": "@jupyter-widgets/base",
      "model_module_version": "2.0.0",
      "model_name": "LayoutModel",
      "state": {
       "width": "145px"
      }
     },
     "c89a94062634489995591566c012f036": {
      "model_module": "@jupyter-widgets/controls",
      "model_module_version": "2.0.0",
      "model_name": "HTMLModel",
      "state": {
       "layout": "IPY_MODEL_f2bae921c508466a8a027170dd3cb773",
       "style": "IPY_MODEL_11849168f78c4dc4a06a5b6c75c6fc85",
       "value": "-"
      }
     },
     "c9b870842e9f459a8b0866fa7f606b77": {
      "model_module": "@jupyter-widgets/base",
      "model_module_version": "2.0.0",
      "model_name": "LayoutModel",
      "state": {
       "width": "70px"
      }
     },
     "c9d7624753a448e9abf3ed4baba7b30f": {
      "model_module": "@jupyter-widgets/controls",
      "model_module_version": "2.0.0",
      "model_name": "HTMLStyleModel",
      "state": {
       "description_width": "",
       "font_size": null,
       "text_color": null
      }
     },
     "c9e9d74c978346659254306bdad663b9": {
      "model_module": "@jupyter-widgets/controls",
      "model_module_version": "2.0.0",
      "model_name": "HTMLModel",
      "state": {
       "layout": "IPY_MODEL_c3999594aa884f488779c7ba62a5e679",
       "style": "IPY_MODEL_f2c93a37257847459b30b51dd4feff60",
       "value": "<font style='color:#34BC6E'>DONE</font>"
      }
     },
     "cae1ace6d7214168bda091c2e8f3fb75": {
      "model_module": "@jupyter-widgets/base",
      "model_module_version": "2.0.0",
      "model_name": "LayoutModel",
      "state": {
       "width": "70px"
      }
     },
     "cb60588b95d54a1c915fbfc21102bc6d": {
      "model_module": "@jupyter-widgets/base",
      "model_module_version": "2.0.0",
      "model_name": "LayoutModel",
      "state": {
       "width": "70px"
      }
     },
     "cc1dba45ed0547e289240f9611617f32": {
      "model_module": "@jupyter-widgets/base",
      "model_module_version": "2.0.0",
      "model_name": "LayoutModel",
      "state": {
       "margin": "0px 5px 0px 0px",
       "width": "32px"
      }
     },
     "cc4ba7a55a2046939ad27bf1e21545fc": {
      "model_module": "@jupyter-widgets/base",
      "model_module_version": "2.0.0",
      "model_name": "LayoutModel",
      "state": {
       "width": "70px"
      }
     },
     "cdc51f9821294e2d9285f1fc04429b1e": {
      "model_module": "@jupyter-widgets/controls",
      "model_module_version": "2.0.0",
      "model_name": "HTMLStyleModel",
      "state": {
       "description_width": "",
       "font_size": null,
       "text_color": null
      }
     },
     "ce5326c1d6784eb5b77eb0261582d51c": {
      "model_module": "@jupyter-widgets/base",
      "model_module_version": "2.0.0",
      "model_name": "LayoutModel",
      "state": {}
     },
     "ce5bd3503a1e4573b9526be0dca43bb6": {
      "model_module": "@jupyter-widgets/base",
      "model_module_version": "2.0.0",
      "model_name": "LayoutModel",
      "state": {
       "width": "190px"
      }
     },
     "ceeefe4dc9d84a0eb4ff28edbc9ed43b": {
      "model_module": "@jupyter-widgets/base",
      "model_module_version": "2.0.0",
      "model_name": "LayoutModel",
      "state": {
       "width": "145px"
      }
     },
     "cf40e22d5c2d401ba63a5a2e731489fe": {
      "model_module": "@jupyter-widgets/controls",
      "model_module_version": "2.0.0",
      "model_name": "ButtonModel",
      "state": {
       "button_style": "primary",
       "description": "Clear",
       "layout": "IPY_MODEL_c5bb887bf9f24c318dcfa1026ef572a5",
       "style": "IPY_MODEL_47c1575ed2d645b791e171b836f65508",
       "tooltip": null
      }
     },
     "cf5a537bed6c4cf98345fbfe4adfb4f5": {
      "model_module": "@jupyter-widgets/controls",
      "model_module_version": "2.0.0",
      "model_name": "HTMLStyleModel",
      "state": {
       "description_width": "",
       "font_size": null,
       "text_color": null
      }
     },
     "d032f37d0b39449d949b7f22d598b26e": {
      "model_module": "@quantum/lab-widgets",
      "model_module_version": "4.0.44",
      "model_name": "CircuitComposerModel",
      "state": {
       "circuit": "\"OPENQASM 2.0;\\ninclude \\\"qelib1.inc\\\";\\nqreg q[1];\\ncreg c[1];\\nh q[0];\\nu(pi/2,pi/4,pi/8) q[0];\\n\"",
       "editable": true,
       "layout": "IPY_MODEL_a6629c68093d4ce79404d290e5d8d311",
       "qiskit_code_cell_index": -1
      }
     },
     "d053b52207f446c299f1d3e3aef8e724": {
      "model_module": "@jupyter-widgets/base",
      "model_module_version": "2.0.0",
      "model_name": "LayoutModel",
      "state": {
       "width": "70px"
      }
     },
     "d05b3256522541a7a33c35beac739c6f": {
      "model_module": "@jupyter-widgets/controls",
      "model_module_version": "2.0.0",
      "model_name": "HTMLStyleModel",
      "state": {
       "description_width": "",
       "font_size": null,
       "text_color": null
      }
     },
     "d11728fdce7b43509b3bd31bad34d569": {
      "model_module": "@jupyter-widgets/base",
      "model_module_version": "2.0.0",
      "model_name": "LayoutModel",
      "state": {}
     },
     "d1fa21ae4e2847b08cbad44281648c40": {
      "model_module": "@quantum/lab-widgets",
      "model_module_version": "4.0.44",
      "model_name": "CircuitComposerModel",
      "state": {
       "circuit": "\"OPENQASM 2.0;\\ninclude \\\"qelib1.inc\\\";\\nqreg q[1];\\ncreg c[1];\\nh q[0];\\nt q[0];\\nrx(pi/2) q[0];\\n\"",
       "editable": true,
       "layout": "IPY_MODEL_42f898d3fa6948d1a4153114eb46a5d7",
       "qiskit_code_cell_index": -1
      }
     },
     "d325037c63914d30935411f4c9a0aee9": {
      "model_module": "@jupyter-widgets/controls",
      "model_module_version": "2.0.0",
      "model_name": "HTMLModel",
      "state": {
       "layout": "IPY_MODEL_432c798f7f4e4d478c2e73aa604ad2bb",
       "style": "IPY_MODEL_ecb2eee5c69b4c1d82e1c6f39e39f1b5",
       "value": "<font style='color:#34BC6E'>DONE</font>"
      }
     },
     "d35efdba14274c50a61c2444459b9ee7": {
      "model_module": "@jupyter-widgets/controls",
      "model_module_version": "2.0.0",
      "model_name": "HTMLModel",
      "state": {
       "layout": "IPY_MODEL_4c22a27bc8c64448bdee690a2f4d0a11",
       "style": "IPY_MODEL_1945eb0730534dbe8f3fac2e2e3dc719",
       "value": "ibm_brisbane"
      }
     },
     "d3728eab31fb41729f50b57d4a4ff990": {
      "model_module": "@jupyter-widgets/controls",
      "model_module_version": "2.0.0",
      "model_name": "HTMLModel",
      "state": {
       "layout": "IPY_MODEL_1e44727de2714d39a5230aafb037c506",
       "style": "IPY_MODEL_19604437307346c5a2229fdbb0ffa0f8",
       "value": "ibm_nairobi"
      }
     },
     "d39424e4d5fa4b2382a4d0d052871997": {
      "model_module": "@jupyter-widgets/base",
      "model_module_version": "2.0.0",
      "model_name": "LayoutModel",
      "state": {
       "margin": "0px 5px 0px 0px",
       "width": "32px"
      }
     },
     "d3cb6a9cb5c947a280301d42410d95e9": {
      "model_module": "@jupyter-widgets/base",
      "model_module_version": "2.0.0",
      "model_name": "LayoutModel",
      "state": {}
     },
     "d5534605b6f1425e8a8fb2f354503a7e": {
      "model_module": "@jupyter-widgets/controls",
      "model_module_version": "2.0.0",
      "model_name": "ButtonModel",
      "state": {
       "icon": "close",
       "layout": "IPY_MODEL_d39424e4d5fa4b2382a4d0d052871997",
       "style": "IPY_MODEL_156eb2a2355d4b9c8fa0439de3514780",
       "tooltip": null
      }
     },
     "d5716836a09f464ca9afb2447a3d18ae": {
      "model_module": "@jupyter-widgets/base",
      "model_module_version": "2.0.0",
      "model_name": "LayoutModel",
      "state": {}
     },
     "d61d2181e01048bb9fe5f7d7250a0265": {
      "model_module": "@jupyter-widgets/controls",
      "model_module_version": "2.0.0",
      "model_name": "HTMLModel",
      "state": {
       "layout": "IPY_MODEL_dc0fd474efa64c87a86c95ce2f7c1b35",
       "style": "IPY_MODEL_a7ad6daeba5b449ca2e394fe982673e9",
       "value": "ibm_nairobi"
      }
     },
     "d754ddc5e0534c8987cd69741a0a3a26": {
      "model_module": "@jupyter-widgets/controls",
      "model_module_version": "2.0.0",
      "model_name": "HTMLModel",
      "state": {
       "layout": "IPY_MODEL_59b4cfc7c0f24c498ecf6f5e0f1bb4e0",
       "style": "IPY_MODEL_b0556dcd663a47caa2383ea463ad3966",
       "value": "<p style='font-family: IBM Plex Sans, Arial, Helvetica, sans-serif; font-size: 20px; font-weight: medium;'>Circuit Properties</p>"
      }
     },
     "d8999e1a57d94732b1f30f966e88e3c9": {
      "model_module": "@jupyter-widgets/base",
      "model_module_version": "2.0.0",
      "model_name": "LayoutModel",
      "state": {
       "width": "95px"
      }
     },
     "d8b9133e274f46e59705e6df85421635": {
      "model_module": "@jupyter-widgets/controls",
      "model_module_version": "2.0.0",
      "model_name": "HTMLStyleModel",
      "state": {
       "description_width": "",
       "font_size": null,
       "text_color": null
      }
     },
     "d954f7174b8a414286b6ec0f47f9e72d": {
      "model_module": "@quantum/lab-widgets",
      "model_module_version": "4.0.44",
      "model_name": "CircuitComposerModel",
      "state": {
       "circuit": "\"OPENQASM 2.0;\\ninclude \\\"qelib1.inc\\\";\\nqreg q[1];\\ncreg c[1];\\nh q[0];\\np(pi/2) q[0];\\nmeasure q[0] -> c[0];\\n\"",
       "editable": true,
       "layout": "IPY_MODEL_54970dc1832f410ab4d06cff25fd809a",
       "qiskit_code_cell_index": -1
      }
     },
     "d9f66f860238451dbf471424a3f75cfe": {
      "model_module": "@jupyter-widgets/controls",
      "model_module_version": "2.0.0",
      "model_name": "HBoxModel",
      "state": {
       "children": [
        "IPY_MODEL_89c3a30235644ad5bf7f650f93ca670b",
        "IPY_MODEL_f93e9c953c724eb5bba896dc7c9f2ec0",
        "IPY_MODEL_0aaa2256e6fc4d41ba558a9b087547f9",
        "IPY_MODEL_5a934f394c42414f9671c482bf2c62e9",
        "IPY_MODEL_eface419042b46cc9deae0c932f34ac6",
        "IPY_MODEL_e1e4b20325ce4be0947502707a79747c"
       ],
       "layout": "IPY_MODEL_af263deaf80b46a1a260a7c0c2d4d39b"
      }
     },
     "dab7bb41e94e482f8de3a31806d6cf5c": {
      "model_module": "@jupyter-widgets/base",
      "model_module_version": "2.0.0",
      "model_name": "LayoutModel",
      "state": {
       "width": "70px"
      }
     },
     "db3ed152fe0f4f679e5ad7c0c7b0a672": {
      "model_module": "@jupyter-widgets/controls",
      "model_module_version": "2.0.0",
      "model_name": "ButtonModel",
      "state": {
       "icon": "close",
       "layout": "IPY_MODEL_4d2ae8a6ecd943d382c6a28fca56ebd7",
       "style": "IPY_MODEL_1325ca9778a2475787bc1d8a9b579a7c",
       "tooltip": null
      }
     },
     "db5da36d1d424d318be5d7fa76cd6113": {
      "model_module": "@jupyter-widgets/controls",
      "model_module_version": "2.0.0",
      "model_name": "ButtonStyleModel",
      "state": {
       "button_color": "white",
       "font_family": null,
       "font_size": null,
       "font_style": null,
       "font_variant": null,
       "font_weight": null,
       "text_color": null,
       "text_decoration": null
      }
     },
     "db73a22f8bf64951bc86c444851e1c69": {
      "model_module": "@quantum/lab-widgets",
      "model_module_version": "4.0.44",
      "model_name": "CircuitComposerModel",
      "state": {
       "circuit": "\"OPENQASM 2.0;\\ninclude \\\"qelib1.inc\\\";\\nqreg q[1];\\ncreg c[1];\\nh q[0];\\nu(pi/2,pi/4,pi/8) q[0];\\np(pi/2) q[0];\\nmeasure q[0] -> c[0];\\n\"",
       "editable": true,
       "layout": "IPY_MODEL_6ccc62bbcb8a48a3ac469ff6284a7913",
       "qiskit_code_cell_index": -1
      }
     },
     "dc0fd474efa64c87a86c95ce2f7c1b35": {
      "model_module": "@jupyter-widgets/base",
      "model_module_version": "2.0.0",
      "model_name": "LayoutModel",
      "state": {
       "width": "145px"
      }
     },
     "dc78fa972ef1463bb69529e2b5449817": {
      "model_module": "@jupyter-widgets/controls",
      "model_module_version": "2.0.0",
      "model_name": "HTMLModel",
      "state": {
       "layout": "IPY_MODEL_a66afc5809fc44f696af8cc843091df7",
       "style": "IPY_MODEL_390f8fd0e6d14330a0352437a036b3b2",
       "value": "cmc5qtzpd0wg0081bwb0"
      }
     },
     "df0dc86f05884e688c2cd5cbeaab2e0c": {
      "model_module": "@jupyter-widgets/base",
      "model_module_version": "2.0.0",
      "model_name": "LayoutModel",
      "state": {
       "margin": "0px 5px 0px 0px",
       "width": "32px"
      }
     },
     "dfc71126c5174fcb96d2d02c1763623b": {
      "model_module": "@jupyter-widgets/base",
      "model_module_version": "2.0.0",
      "model_name": "LayoutModel",
      "state": {}
     },
     "e0f579d120a14d2b9ab2713f6903646e": {
      "model_module": "@jupyter-widgets/controls",
      "model_module_version": "2.0.0",
      "model_name": "ButtonStyleModel",
      "state": {
       "button_color": "white",
       "font_family": null,
       "font_size": null,
       "font_style": null,
       "font_variant": null,
       "font_weight": null,
       "text_color": null,
       "text_decoration": null
      }
     },
     "e1e4b20325ce4be0947502707a79747c": {
      "model_module": "@jupyter-widgets/controls",
      "model_module_version": "2.0.0",
      "model_name": "HTMLModel",
      "state": {
       "layout": "IPY_MODEL_a3dc39a73d224b8d85cfcd16a8e819ac",
       "style": "IPY_MODEL_5e3aa82da649423a9b5b00cc0771dafc",
       "value": "job has successfully run"
      }
     },
     "e26288d74aa0437ea5ccfb958b1e58eb": {
      "model_module": "@jupyter-widgets/controls",
      "model_module_version": "2.0.0",
      "model_name": "HTMLStyleModel",
      "state": {
       "description_width": "",
       "font_size": null,
       "text_color": null
      }
     },
     "e37982b250414cfca716fb0c203f44da": {
      "model_module": "@jupyter-widgets/controls",
      "model_module_version": "2.0.0",
      "model_name": "HTMLStyleModel",
      "state": {
       "description_width": "",
       "font_size": null,
       "text_color": null
      }
     },
     "e3c3cc0db069415cbd7681c14b3c9998": {
      "model_module": "@jupyter-widgets/controls",
      "model_module_version": "2.0.0",
      "model_name": "HTMLModel",
      "state": {
       "layout": "IPY_MODEL_be7b2a50bb4a47ee9ae8bc63b6aaf41f",
       "style": "IPY_MODEL_bf49b2811eef40c78488b6d84955a3a2",
       "value": "-"
      }
     },
     "e507b0b21986406c8c9dcd7873ba164b": {
      "model_module": "@jupyter-widgets/base",
      "model_module_version": "2.0.0",
      "model_name": "LayoutModel",
      "state": {
       "max_width": "700px",
       "min_width": "700px"
      }
     },
     "e6b8fbb7914348a8a4d4d6e098bfa5b5": {
      "model_module": "@jupyter-widgets/base",
      "model_module_version": "2.0.0",
      "model_name": "LayoutModel",
      "state": {
       "width": "95px"
      }
     },
     "e7762ba14c184208af0ff5071c571c7b": {
      "model_module": "@jupyter-widgets/controls",
      "model_module_version": "2.0.0",
      "model_name": "HTMLModel",
      "state": {
       "layout": "IPY_MODEL_0d5a0366bd1b44099f42aff09095ab44",
       "style": "IPY_MODEL_637a27f0ccae46b695b8b941804192a3",
       "value": "job has successfully run"
      }
     },
     "e7c9e3d92c9440b3b454b5494b02bc21": {
      "model_module": "@jupyter-widgets/controls",
      "model_module_version": "2.0.0",
      "model_name": "HTMLModel",
      "state": {
       "layout": "IPY_MODEL_3a5af5b7809a4072b46d5a143edf6cab",
       "style": "IPY_MODEL_7d2c44e7400f4ec0aa36697f0f1f67b7",
       "value": "-"
      }
     },
     "e9030b9100794c6b9ebfa9699cae9799": {
      "model_module": "@jupyter-widgets/controls",
      "model_module_version": "2.0.0",
      "model_name": "HTMLStyleModel",
      "state": {
       "description_width": "",
       "font_size": null,
       "text_color": null
      }
     },
     "e93e1bd0b3b343c5be067ce37b8f1380": {
      "model_module": "@jupyter-widgets/base",
      "model_module_version": "2.0.0",
      "model_name": "LayoutModel",
      "state": {
       "width": "95px"
      }
     },
     "e951ba86172c4389a93710f27e6f345b": {
      "model_module": "@jupyter-widgets/controls",
      "model_module_version": "2.0.0",
      "model_name": "GridBoxModel",
      "state": {
       "children": [
        "IPY_MODEL_cf40e22d5c2d401ba63a5a2e731489fe"
       ],
       "layout": "IPY_MODEL_1540dadec20643e7a82c44a9a5d376b3"
      }
     },
     "e98dcca654bb487d92989156ba7007ba": {
      "model_module": "@jupyter-widgets/controls",
      "model_module_version": "2.0.0",
      "model_name": "ButtonStyleModel",
      "state": {
       "button_color": "white",
       "font_family": null,
       "font_size": null,
       "font_style": null,
       "font_variant": null,
       "font_weight": null,
       "text_color": null,
       "text_decoration": null
      }
     },
     "e9acf72f1cb84b6a9fc6b99a8bdf20bb": {
      "model_module": "@jupyter-widgets/controls",
      "model_module_version": "2.0.0",
      "model_name": "ButtonModel",
      "state": {
       "icon": "close",
       "layout": "IPY_MODEL_df0dc86f05884e688c2cd5cbeaab2e0c",
       "style": "IPY_MODEL_7ff3c307a1424fb0a7da227fa1564f36",
       "tooltip": null
      }
     },
     "ebabd81ff19849b49e6b8d4c9f89d4b1": {
      "model_module": "@jupyter-widgets/controls",
      "model_module_version": "2.0.0",
      "model_name": "HTMLStyleModel",
      "state": {
       "description_width": "",
       "font_size": null,
       "text_color": null
      }
     },
     "ecb2eee5c69b4c1d82e1c6f39e39f1b5": {
      "model_module": "@jupyter-widgets/controls",
      "model_module_version": "2.0.0",
      "model_name": "HTMLStyleModel",
      "state": {
       "description_width": "",
       "font_size": null,
       "text_color": null
      }
     },
     "ed000f6205fb4610a55dcc924665706e": {
      "model_module": "@jupyter-widgets/base",
      "model_module_version": "2.0.0",
      "model_name": "LayoutModel",
      "state": {}
     },
     "ed0c1c7e56fb4b3aa5ea014f22fb41d2": {
      "model_module": "@jupyter-widgets/controls",
      "model_module_version": "2.0.0",
      "model_name": "ButtonModel",
      "state": {
       "icon": "close",
       "layout": "IPY_MODEL_aac8f6a00f5c41999736df96e1b1acb8",
       "style": "IPY_MODEL_23e964f452704465a6f96dcf02104cce",
       "tooltip": null
      }
     },
     "ee2a3bdebcd0429b9fece612494d9d5e": {
      "model_module": "@jupyter-widgets/base",
      "model_module_version": "2.0.0",
      "model_name": "LayoutModel",
      "state": {
       "margin": "0px 5px 0px 0px",
       "width": "32px"
      }
     },
     "eebe0e0866784997859ab9741ea95e71": {
      "model_module": "@jupyter-widgets/base",
      "model_module_version": "2.0.0",
      "model_name": "LayoutModel",
      "state": {
       "width": "70px"
      }
     },
     "eface419042b46cc9deae0c932f34ac6": {
      "model_module": "@jupyter-widgets/controls",
      "model_module_version": "2.0.0",
      "model_name": "HTMLModel",
      "state": {
       "layout": "IPY_MODEL_eebe0e0866784997859ab9741ea95e71",
       "style": "IPY_MODEL_4ffe708217124104b17e20af38278025",
       "value": "-"
      }
     },
     "efcc7710170e4ab19a6e5caf74e9b0cb": {
      "model_module": "@jupyter-widgets/controls",
      "model_module_version": "2.0.0",
      "model_name": "ButtonStyleModel",
      "state": {
       "button_color": "white",
       "font_family": null,
       "font_size": null,
       "font_style": null,
       "font_variant": null,
       "font_weight": null,
       "text_color": null,
       "text_decoration": null
      }
     },
     "f016468af1884e12b6a4f5c042430b89": {
      "model_module": "@jupyter-widgets/base",
      "model_module_version": "2.0.0",
      "model_name": "LayoutModel",
      "state": {
       "margin": "0px 5px 0px 0px",
       "width": "32px"
      }
     },
     "f0ac67c113c343a4881115f5e12deb45": {
      "model_module": "@jupyter-widgets/controls",
      "model_module_version": "2.0.0",
      "model_name": "HTMLModel",
      "state": {
       "layout": "IPY_MODEL_8200f193665449ef9a656fdabac46553",
       "style": "IPY_MODEL_a6a5a89a50d94400ab3fec6a331e2f9c",
       "value": "job has successfully run"
      }
     },
     "f1ae63bb420d4a07bba34b20343247c3": {
      "model_module": "@jupyter-widgets/controls",
      "model_module_version": "2.0.0",
      "model_name": "HTMLStyleModel",
      "state": {
       "description_width": "",
       "font_size": null,
       "text_color": null
      }
     },
     "f284973623a648bf964875185b9be849": {
      "model_module": "@jupyter-widgets/controls",
      "model_module_version": "2.0.0",
      "model_name": "HBoxModel",
      "state": {
       "children": [
        "IPY_MODEL_c6fcdc8c90634c7abe38219e4c60fa29",
        "IPY_MODEL_282815ddbcc048b0ad276b6cba064e26",
        "IPY_MODEL_3a6d87a4fcdf425fb7400148acdd4976",
        "IPY_MODEL_86292775a6ce4b96b6f11860a5105c00",
        "IPY_MODEL_4ffba5bf61b347caaff375a81c5f4cce"
       ],
       "layout": "IPY_MODEL_2f78026d3b804192b47442e85d1f78f7"
      }
     },
     "f2a5256c73894c01aa28d8dd9f212bd5": {
      "model_module": "@quantum/lab-widgets",
      "model_module_version": "4.0.44",
      "model_name": "CircuitComposerModel",
      "state": {
       "circuit": "\"OPENQASM 2.0;\\ninclude \\\"qelib1.inc\\\";\\nqreg q[1];\\ncreg c[1];\\n\"",
       "editable": true,
       "layout": "IPY_MODEL_a19305fc0aed40e8a12680837a4a09c3",
       "qiskit_code_cell_index": -1
      }
     },
     "f2bae921c508466a8a027170dd3cb773": {
      "model_module": "@jupyter-widgets/base",
      "model_module_version": "2.0.0",
      "model_name": "LayoutModel",
      "state": {
       "width": "70px"
      }
     },
     "f2c3f297c22c4b15a62a6e0223d642c9": {
      "model_module": "@jupyter-widgets/controls",
      "model_module_version": "2.0.0",
      "model_name": "HTMLStyleModel",
      "state": {
       "description_width": "",
       "font_size": null,
       "text_color": null
      }
     },
     "f2c93a37257847459b30b51dd4feff60": {
      "model_module": "@jupyter-widgets/controls",
      "model_module_version": "2.0.0",
      "model_name": "HTMLStyleModel",
      "state": {
       "description_width": "",
       "font_size": null,
       "text_color": null
      }
     },
     "f485cc11b7f3441e9a0a75dd81ddc450": {
      "model_module": "@jupyter-widgets/controls",
      "model_module_version": "2.0.0",
      "model_name": "HTMLStyleModel",
      "state": {
       "description_width": "",
       "font_size": null,
       "text_color": null
      }
     },
     "f4c7a78689484d909349e0d592d4dbb1": {
      "model_module": "@jupyter-widgets/controls",
      "model_module_version": "2.0.0",
      "model_name": "HTMLStyleModel",
      "state": {
       "description_width": "",
       "font_size": null,
       "text_color": null
      }
     },
     "f4cc0abf48d04108beb5fcc297267898": {
      "model_module": "@quantum/lab-widgets",
      "model_module_version": "4.0.44",
      "model_name": "CircuitComposerModel",
      "state": {
       "circuit": "\"OPENQASM 2.0;\\ninclude \\\"qelib1.inc\\\";\\nqreg q[1];\\ncreg c[1];\\nh q[0];\\np(pi/2) q[0];\\nrz(pi/2) q[0];\\n\"",
       "editable": true,
       "layout": "IPY_MODEL_fb4c058180894c6ba1eca388ca322555",
       "qiskit_code_cell_index": -1
      }
     },
     "f50f93c7fd4e42e5a6b0f7a29e57c6b3": {
      "model_module": "@jupyter-widgets/base",
      "model_module_version": "2.0.0",
      "model_name": "LayoutModel",
      "state": {
       "width": "190px"
      }
     },
     "f5a91b2c5bd648979953a89ef0deaf3d": {
      "model_module": "@jupyter-widgets/base",
      "model_module_version": "2.0.0",
      "model_name": "LayoutModel",
      "state": {
       "max_width": "700px",
       "min_width": "700px"
      }
     },
     "f5d0cc057213486c9dbe2797f498fd62": {
      "model_module": "@jupyter-widgets/base",
      "model_module_version": "2.0.0",
      "model_name": "LayoutModel",
      "state": {
       "width": "190px"
      }
     },
     "f5deb6dbe1e4425fb68a63c1b5fd71ca": {
      "model_module": "@jupyter-widgets/base",
      "model_module_version": "2.0.0",
      "model_name": "LayoutModel",
      "state": {
       "width": "145px"
      }
     },
     "f603b6b0889048b39cc3fa23b9b90e1d": {
      "model_module": "@jupyter-widgets/base",
      "model_module_version": "2.0.0",
      "model_name": "LayoutModel",
      "state": {
       "max_width": "700px",
       "min_width": "700px"
      }
     },
     "f832dcc2afb14d2186476c9e79cf9715": {
      "model_module": "@jupyter-widgets/base",
      "model_module_version": "2.0.0",
      "model_name": "LayoutModel",
      "state": {
       "width": "145px"
      }
     },
     "f8404c6501c04aa6adb466e12dd157ed": {
      "model_module": "@jupyter-widgets/controls",
      "model_module_version": "2.0.0",
      "model_name": "HTMLModel",
      "state": {
       "layout": "IPY_MODEL_31c3855a2c1f41ccabebb8342e8e17d7",
       "style": "IPY_MODEL_9ef4396349b240028122bec9175c217e",
       "value": "job has successfully run"
      }
     },
     "f8c90daa06d0414cb61918494c96cddb": {
      "model_module": "@quantum/lab-widgets",
      "model_module_version": "4.0.44",
      "model_name": "CircuitComposerModel",
      "state": {
       "circuit": "\"OPENQASM 2.0;\\ninclude \\\"qelib1.inc\\\";\\nqreg q[1];\\ncreg c[1];\\nh q[0];\\nry(pi/2) q[0];\\n\"",
       "editable": true,
       "layout": "IPY_MODEL_6e2c02b5ae5b452ea6857d65299c848b",
       "qiskit_code_cell_index": -1
      }
     },
     "f93e9c953c724eb5bba896dc7c9f2ec0": {
      "model_module": "@jupyter-widgets/controls",
      "model_module_version": "2.0.0",
      "model_name": "HTMLModel",
      "state": {
       "layout": "IPY_MODEL_34f41017f0ca4645a19f2b203c0ee123",
       "style": "IPY_MODEL_d8b9133e274f46e59705e6df85421635",
       "value": "cmc5h2mwqgx0008yk2q0"
      }
     },
     "f9ac80cab3534db983ecf02f6a687fa3": {
      "model_module": "@jupyter-widgets/controls",
      "model_module_version": "2.0.0",
      "model_name": "HTMLModel",
      "state": {
       "layout": "IPY_MODEL_87691f465f6c4ff68f00a7f25320605f",
       "style": "IPY_MODEL_fa9538fe43a44ae8a521c22bd0753647",
       "value": "job has successfully run"
      }
     },
     "fa9538fe43a44ae8a521c22bd0753647": {
      "model_module": "@jupyter-widgets/controls",
      "model_module_version": "2.0.0",
      "model_name": "HTMLStyleModel",
      "state": {
       "description_width": "",
       "font_size": null,
       "text_color": null
      }
     },
     "fb4c058180894c6ba1eca388ca322555": {
      "model_module": "@jupyter-widgets/base",
      "model_module_version": "2.0.0",
      "model_name": "LayoutModel",
      "state": {}
     },
     "fb4cadb23cb947db92551afa8392941e": {
      "model_module": "@jupyter-widgets/base",
      "model_module_version": "2.0.0",
      "model_name": "LayoutModel",
      "state": {}
     },
     "fb5153d3d88c42528c2a8c5d41f0d889": {
      "model_module": "@jupyter-widgets/controls",
      "model_module_version": "2.0.0",
      "model_name": "HTMLModel",
      "state": {
       "layout": "IPY_MODEL_cc4ba7a55a2046939ad27bf1e21545fc",
       "style": "IPY_MODEL_2f2b52ae0c2b4c58810e47e78a082dbe",
       "value": "-"
      }
     },
     "fc8bef61ea5549798fd9778dc6ab931b": {
      "model_module": "@jupyter-widgets/controls",
      "model_module_version": "2.0.0",
      "model_name": "HTMLModel",
      "state": {
       "layout": "IPY_MODEL_6e874b8e3b53462e8c1efa35c79c6aae",
       "style": "IPY_MODEL_bf2d2e77b7b74b529fe10d1581a7fe6a",
       "value": "-"
      }
     },
     "fc987cee365047bf8be1e58b0aed5a11": {
      "model_module": "@jupyter-widgets/base",
      "model_module_version": "2.0.0",
      "model_name": "LayoutModel",
      "state": {
       "width": "190px"
      }
     },
     "fcc3db4738cb4bfdbea46537ef91f23b": {
      "model_module": "@jupyter-widgets/base",
      "model_module_version": "2.0.0",
      "model_name": "LayoutModel",
      "state": {
       "width": "190px"
      }
     },
     "fcedd6ab978e4f49ad248aef380f45d2": {
      "model_module": "@jupyter-widgets/base",
      "model_module_version": "2.0.0",
      "model_name": "LayoutModel",
      "state": {
       "width": "145px"
      }
     },
     "ff8dd48b9771404e90f28987f815c9dc": {
      "model_module": "@quantum/lab-widgets",
      "model_module_version": "4.0.44",
      "model_name": "CircuitComposerModel",
      "state": {
       "circuit": "\"OPENQASM 2.0;\\ninclude \\\"qelib1.inc\\\";\\nqreg q[1];\\ncreg c[1];\\nh q[0];\\np(pi/2) q[0];\\nmeasure q[0] -> c[0];\\n\"",
       "editable": true,
       "layout": "IPY_MODEL_429849bc45e54460bfb519cca3d27d06",
       "qiskit_code_cell_index": -1
      }
     },
     "ffdac56b4b2e467eb4d5e98aaa61710f": {
      "model_module": "@quantum/lab-widgets",
      "model_module_version": "4.0.44",
      "model_name": "CircuitComposerModel",
      "state": {
       "circuit": "\"OPENQASM 2.0;\\ninclude \\\"qelib1.inc\\\";\\nqreg q[1];\\ncreg c[1];\\nh q[0];\\nmeasure q[0] -> c[0];\\n\"",
       "editable": true,
       "layout": "IPY_MODEL_89562e5b2d53419788deb7fa85071d4b",
       "qiskit_code_cell_index": -1
      }
     }
    },
    "version_major": 2,
    "version_minor": 0
   }
  }
 },
 "nbformat": 4,
 "nbformat_minor": 5
}
