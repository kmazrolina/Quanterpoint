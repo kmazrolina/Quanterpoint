{
 "cells": [
  {
   "cell_type": "code",
   "execution_count": 3,
   "id": "cce49861-283d-4cdf-9fdc-5981a9dcacbc",
   "metadata": {
    "tags": []
   },
   "outputs": [],
   "source": [
    "quantum_data = %store -r scale12"
   ]
  },
  {
   "cell_type": "code",
   "execution_count": 2,
   "id": "79decd4f-2ef2-46e2-9526-46b58b14fb79",
   "metadata": {
    "tags": []
   },
   "outputs": [],
   "source": [
    "#fractal algorithm generating 11 sounds that complement the sound obtained from quantum computer to create 12-tone series\n",
    "# x - original complex number\n",
    "#\n",
    "def randomness(c):\n",
    "    frequencies = []\n",
    "    original = c\n",
    "    \n",
    "    frequencies.append(c**2 + original)\n",
    "    \n",
    "    for i in range (1, 11): \n",
    "        frequencies.append(frequencies[i-1] + original)\n",
    "    \n",
    "    print(frequencies)\n",
    "    return(frequencies)"
   ]
  },
  {
   "cell_type": "code",
   "execution_count": 4,
   "id": "82499c0d-45d9-4d35-a478-b01d22e1a063",
   "metadata": {
    "tags": []
   },
   "outputs": [
    {
     "name": "stdout",
     "output_type": "stream",
     "text": [
      "Traceback \u001b[1;36m(most recent call last)\u001b[0m:\n",
      "\u001b[1;36m  Cell \u001b[1;32mIn[4], line 3\u001b[1;36m\n",
      "\u001b[1;33m    for q in quantum_data:\u001b[1;36m\n",
      "\u001b[1;31mTypeError\u001b[0m\u001b[1;31m:\u001b[0m 'NoneType' object is not iterable\n",
      "\n",
      "Use %tb to get the full traceback.\n"
     ]
    },
    {
     "data": {
      "text/html": [
       "\n",
       "<style>\n",
       ".button {\n",
       "  border: none;\n",
       "  color: white;\n",
       "  padding: 4px 8px;\n",
       "  text-align: center;\n",
       "  text-decoration: none;\n",
       "  display: inline-block;\n",
       "  font-size: 12px;\n",
       "  margin: 4px 2px;\n",
       "  transition-duration: 0.2s;\n",
       "  cursor: pointer;\n",
       "}\n",
       ".iqx-button {\n",
       "  background-color: #0f62fe; \n",
       "  color: white; \n",
       "}\n",
       ".iqx-button:hover {\n",
       "  background-color: #0043ce;\n",
       "  color: white;\n",
       "}\n",
       "</style>\n",
       "<a href=\"https://stackoverflow.com/search?q=TypeError: 'NoneType' object is not iterable\" target='_blank'><button class='button iqx-button'>Search for solution online</button></a>\n"
      ],
      "text/plain": [
       "<IPython.core.display.HTML object>"
      ]
     },
     "metadata": {},
     "output_type": "display_data"
    }
   ],
   "source": [
    "circuits_melodies = []\n",
    "\n",
    "for q in quantum_data:\n",
    "    circuits_melodies.append(randomness(q))\n",
    "    \n",
    "print(circuits_melodies)"
   ]
  },
  {
   "cell_type": "code",
   "execution_count": 71,
   "id": "3d7d1e5c-8f22-434c-ae95-4e926ee269ae",
   "metadata": {
    "tags": []
   },
   "outputs": [
    {
     "data": {
      "text/plain": [
       "array([ 854.89884027, 2932.92610224, 2722.38883291, 2693.72420278,\n",
       "       1321.61315059,  904.69926814, 2709.7470383 , 3744.78967998,\n",
       "       3390.03657921, 2720.92804661, 2166.2682059 , 3162.83000805])"
      ]
     },
     "execution_count": 71,
     "metadata": {},
     "output_type": "execute_result"
    }
   ],
   "source": []
  },
  {
   "cell_type": "code",
   "execution_count": null,
   "id": "7689b936-9331-4ea0-918f-99ba8f0635ac",
   "metadata": {},
   "outputs": [],
   "source": []
  },
  {
   "cell_type": "code",
   "execution_count": null,
   "id": "4c7cf85a-6234-42cc-8cd0-75b1af9e9f9b",
   "metadata": {},
   "outputs": [],
   "source": []
  },
  {
   "cell_type": "code",
   "execution_count": null,
   "id": "a06d0852-42f5-473a-b8b9-bbccadc89be9",
   "metadata": {},
   "outputs": [],
   "source": []
  },
  {
   "cell_type": "code",
   "execution_count": null,
   "id": "ff8b46c5-c27b-4d6d-bcf0-23c265ac272c",
   "metadata": {},
   "outputs": [],
   "source": []
  },
  {
   "cell_type": "code",
   "execution_count": null,
   "id": "7c5153d5-1db4-4a2b-891c-5630b104a36c",
   "metadata": {},
   "outputs": [],
   "source": []
  },
  {
   "cell_type": "code",
   "execution_count": null,
   "id": "795731d2-bcea-4f10-8418-f797325bef64",
   "metadata": {},
   "outputs": [],
   "source": []
  },
  {
   "cell_type": "code",
   "execution_count": null,
   "id": "c49ba284-dbd7-4732-a088-0627a98d2147",
   "metadata": {},
   "outputs": [],
   "source": []
  }
 ],
 "metadata": {
  "kernelspec": {
   "display_name": "Python 3 (ipykernel)",
   "language": "python",
   "name": "python3"
  },
  "language_info": {
   "codemirror_mode": {
    "name": "ipython",
    "version": 3
   },
   "file_extension": ".py",
   "mimetype": "text/x-python",
   "name": "python",
   "nbconvert_exporter": "python",
   "pygments_lexer": "ipython3",
   "version": "3.10.8"
  },
  "widgets": {
   "application/vnd.jupyter.widget-state+json": {
    "state": {},
    "version_major": 2,
    "version_minor": 0
   }
  }
 },
 "nbformat": 4,
 "nbformat_minor": 5
}
