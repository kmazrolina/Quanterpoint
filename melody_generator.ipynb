{
 "cells": [
  {
   "cell_type": "code",
   "execution_count": 10,
   "id": "cce49861-283d-4cdf-9fdc-5981a9dcacbc",
   "metadata": {
    "tags": []
   },
   "outputs": [
    {
     "name": "stdout",
     "output_type": "stream",
     "text": [
      "[(0.087890625+0.912109375j), (0.5185546875+0.4814453125j), (0.51171875+0.48828125j), (0.4931640625+0.5068359375j), (0.5166015625+0.4833984375j), (0.50390625+0.49609375j), (0.86328125+0.13671875j), (0.5224609375+0.4775390625j), (0.51171875+0.48828125j), (0.517578125+0.482421875j), (0.5390625+0.4609375j), (0.046875+0.953125j)]\n"
     ]
    }
   ],
   "source": [
    "import numpy as np\n",
    "\n",
    "\n",
    "%store -r scale12\n",
    "quantum_data = scale12\n",
    "print(quantum_data)"
   ]
  },
  {
   "cell_type": "code",
   "execution_count": 20,
   "id": "79decd4f-2ef2-46e2-9526-46b58b14fb79",
   "metadata": {
    "tags": []
   },
   "outputs": [],
   "source": [
    "#based on fractal algorithm: generating 11 sounds that complement the sound obtained from quantum computer to create 12-tone series\n",
    "# x - original complex number\n",
    "#\n",
    "def randomness(c):\n",
    "    frequencies = []\n",
    "    original = c\n",
    "    \n",
    "    frequencies.append(c**2 + original)\n",
    "    \n",
    "    for i in range (1, 11): \n",
    "        frequencies.append(frequencies[i-1] + original)\n",
    "        \n",
    "    return(frequencies)"
   ]
  },
  {
   "cell_type": "code",
   "execution_count": 18,
   "id": "82499c0d-45d9-4d35-a478-b01d22e1a063",
   "metadata": {
    "tags": []
   },
   "outputs": [
    {
     "name": "stdout",
     "output_type": "stream",
     "text": [
      "[array([154.90685035, 175.68980402, 198.47165032, 221.91346221,\n",
      "       245.64477226, 269.52729853, 293.49840799, 317.5257628 ,\n",
      "       341.59102202, 365.68302244, 389.79458577]), array([150.32040667, 168.46860444, 186.91712803, 205.47047117,\n",
      "       224.07229199, 242.70044516, 261.34447922, 279.99882352,\n",
      "       298.66023857, 317.32671272, 335.996931  ]), array([150.22539802, 168.34757754, 186.78063992, 205.32203083,\n",
      "       223.91347094, 242.53207832, 261.16706205, 279.81267379,\n",
      "       298.46557211, 317.12368275, 335.78565021]), array([150.        , 168.06661172, 186.4742864 , 205.00029422,\n",
      "       223.58082273, 242.19089065, 260.81874116, 279.45812076,\n",
      "       298.1053986 , 316.7583228 , 335.41542285]), array([150.29259973, 168.43305763, 186.87682779, 205.42641068,\n",
      "       224.02491622, 242.64999058, 261.29108619, 279.94258208,\n",
      "       298.60120987, 317.26494019, 335.93244658]), array([150.12473024, 168.22083945, 186.64026154, 205.17213726,\n",
      "       223.75590746, 242.36782446, 260.99669875, 279.63657343,\n",
      "       298.28398754, 316.93679344, 335.59358808]), array([163.67715545, 186.72088303, 209.78545834, 232.85803775,\n",
      "       255.93452911, 279.01322337, 302.09328041, 325.1742391 ,\n",
      "       348.25582526, 371.33786563, 394.42024537]), array([150.37761259, 168.54202589, 187.00086266, 205.56255486,\n",
      "       224.17184431, 242.80699806, 261.45775482, 280.11864354,\n",
      "       298.78648189, 317.45929333, 336.13578565]), array([150.22539802, 168.34757754, 186.78063992, 205.32203083,\n",
      "       223.91347094, 242.53207832, 261.16706205, 279.81267379,\n",
      "       298.46557211, 317.12368275, 335.78565021]), array([150.30643694, 168.45073415, 186.89684742, 205.44827591,\n",
      "       224.04840416, 242.67498279, 261.31751237, 279.97039713,\n",
      "       298.63038318, 317.29545   , 335.9642769 ]), array([150.64454026, 168.88884176, 187.40349817, 206.01298224,\n",
      "       224.66645897, 243.34388146, 262.03576689, 280.73705241,\n",
      "       299.44479005, 318.15714733, 336.87292544]), array([156.23123006, 177.45583875, 201.00989652, 225.33412722,\n",
      "       249.99508518, 274.83138388, 299.77014228, 324.77382838,\n",
      "       349.82120073, 374.89935349, 400.        ])]\n"
     ]
    }
   ],
   "source": [
    "circuits_melodies = []\n",
    "\n",
    "#the modules of complex numbers will be corresponding to frequencies later\n",
    "for q in quantum_data:\n",
    "    circuits_melodies.append(np.abs(randomness(q)))\n",
    "    \n",
    "\n",
    "# let's scale the obtained frequencies to get them into guitar range (150-400Hz for our guitar simulation)\n",
    "min_v = np.min(circuits_melodies)\n",
    "max_v = np.max(circuits_melodies)\n",
    "\n",
    "scale_v = max_v - min_v\n",
    "scale_f = 400-150\n",
    "\n",
    "for c in range(len(circuits_melodies)):\n",
    "    circuits_melodies[c] = 150 + ( ( (circuits_melodies[c] - min_v) / scale_v ) * scale_f )\n",
    "    \n",
    "print(circuits_melodies)\n",
    "    "
   ]
  },
  {
   "cell_type": "code",
   "execution_count": 19,
   "id": "7689b936-9331-4ea0-918f-99ba8f0635ac",
   "metadata": {
    "tags": []
   },
   "outputs": [
    {
     "name": "stdout",
     "output_type": "stream",
     "text": [
      "Stored 'circuits_melodies' (list)\n"
     ]
    }
   ],
   "source": [
    "%store circuits_melodies"
   ]
  },
  {
   "cell_type": "code",
   "execution_count": null,
   "id": "4c7cf85a-6234-42cc-8cd0-75b1af9e9f9b",
   "metadata": {},
   "outputs": [],
   "source": []
  },
  {
   "cell_type": "code",
   "execution_count": null,
   "id": "a06d0852-42f5-473a-b8b9-bbccadc89be9",
   "metadata": {},
   "outputs": [],
   "source": []
  },
  {
   "cell_type": "code",
   "execution_count": null,
   "id": "ff8b46c5-c27b-4d6d-bcf0-23c265ac272c",
   "metadata": {},
   "outputs": [],
   "source": []
  },
  {
   "cell_type": "code",
   "execution_count": null,
   "id": "7c5153d5-1db4-4a2b-891c-5630b104a36c",
   "metadata": {},
   "outputs": [],
   "source": []
  },
  {
   "cell_type": "code",
   "execution_count": null,
   "id": "795731d2-bcea-4f10-8418-f797325bef64",
   "metadata": {},
   "outputs": [],
   "source": []
  },
  {
   "cell_type": "code",
   "execution_count": null,
   "id": "c49ba284-dbd7-4732-a088-0627a98d2147",
   "metadata": {},
   "outputs": [],
   "source": []
  }
 ],
 "metadata": {
  "kernelspec": {
   "display_name": "Python 3 (ipykernel)",
   "language": "python",
   "name": "python3"
  },
  "language_info": {
   "codemirror_mode": {
    "name": "ipython",
    "version": 3
   },
   "file_extension": ".py",
   "mimetype": "text/x-python",
   "name": "python",
   "nbconvert_exporter": "python",
   "pygments_lexer": "ipython3",
   "version": "3.10.8"
  },
  "widgets": {
   "application/vnd.jupyter.widget-state+json": {
    "state": {},
    "version_major": 2,
    "version_minor": 0
   }
  }
 },
 "nbformat": 4,
 "nbformat_minor": 5
}
